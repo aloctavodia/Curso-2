{
 "cells": [
  {
   "cell_type": "markdown",
   "metadata": {},
   "source": [
    "# Álgebra Lineal"
   ]
  },
  {
   "cell_type": "markdown",
   "metadata": {},
   "source": [
    "#### I - 7-8 mayo 2018 - JMA"
   ]
  },
  {
   "cell_type": "markdown",
   "metadata": {},
   "source": [
    "## Breve nota histórica."
   ]
  },
  {
   "cell_type": "markdown",
   "metadata": {},
   "source": [
    "Hacia 330 AC, en Alejandría, Euclides da a conocer su obra magna, los $Elementos$, donde introduce el método axiomático y desarrolla (deductivamente) todo el conocimiento matemático del mundo antiguo (occidental) que se conocía hasta ese entonces. El método es geométrico, y se llama $Geometría$ $Sintética$. Es de notar que los Elementos contienen un desarrollo importante de la aritmética (un número, para Euclides, era la $longitud$ de un segmento).\n",
    "\n",
    "Hacia los siglos IX-X, los árabes desarrollan el $álgebra$ con el propósito de resolver ecuaciones. Por ejemplo: \"encuentre la $cosa$ cuyo cuadrado, más la $cosa$, es seis\" (o sea, encuentre el valor de la $incógnita$ $x$, tal que $x^2+x=6$; no conocían el cero ni los negativos, de modo que no podían escribir, por ejemplo, $x^2+x-6=0$). Resuelven ecuaciones lineales, cuadráticas, y algunas cúbicas.\n",
    "\n",
    "En 1637, en $El$ $Discurso$ $del$ $Método$ (más exactamente, en el apéndice $La$ $Geometría$ de este tratado), Descartes introduce las coordenadas cartesianas, que nos permiten definir un \"diccionario\". Por ejemplo, un $punto$ (objeto geométrico) del plano [del espacio], corresponde a un $par$ $ordenado$ [$triupla$] de números reales (objeto algebraico). De aquí nace la $Geometría$ $Analítica$, produciendo una revolucionaria síntesis entre la Geometría Sintética de los antiguos griegos, y el Álgebra de los árabes. El $Álgebra$ $Lineal$, que es el objeto de este curso, es la parte algebraica de la Geometría Analítica."
   ]
  },
  {
   "cell_type": "markdown",
   "metadata": {},
   "source": [
    "## Vectores y matrices"
   ]
  },
  {
   "cell_type": "markdown",
   "metadata": {},
   "source": [
    "El concepto de vector se origina en Física, con la noción de $fuerza$, que tiene como atributos: $magnitud$, $dirección$ y $punto$ $de$ $aplicación$. Se los representa como $flechas$, que tienen un punto inicial, uno final, y una punta. Los dos puntos determinan una única recta que, junto con la punta, determinan la dirección del vector; el punto de aplicación coincide con el punto inicial. En el plano o en el espacio, pueden representarse determinando los puntos inicial y final.\n",
    "\n",
    "Los $vectores$ $matemáticos$ tienen magnitud y dirección, pero $no$ punto de aplicación: se considera como \"iguales\" a dos vectores que sean paralelos y tengan la misma dirección y magnitud. Más rigurosamente, se los considera $equivalentes$, y un vector es una $clase$ $de$ $equivalencia$, o sea, el conjunto de todas las flechas paralelas a una dada (y con la misma dirección y magnitud). Como siempre con las clases de equivalencia, toda la clase de equivalencia (el vector) puede representarse eligiendo una flecha cualquiera de esa clase de equivalencia. Concretamente, si tomamos como punto inicial $P=(1,2)$ y como punto final $Q=(5,3)$, el vector (denotado $\\mathbf{v}$) que va de $P$ a $Q$ es equivalente, por ejemplo, al que va de $P'=(8,9)$ a $Q'=(12,10)$. En otras palabras, ambos vectores pertenecen a (o son representantes de) la misma clase de equivalencia $\\mathbf{v}$. El vector (es decir, la clase de equivalencia), se representa como el $par$ $ordenado$ $\\mathbf{v}=(4,1)$, y decimos que $4$ y $1$ son las $componentes$ de $\\mathbf{v}$; observar que $(4,1)=(5-1,3-2)=(12-8,10-9)$. \n",
    "\n",
    "Para trabajar de forma simple con vectores como representantes de su clase de equivalencia, se elige arbitrariamente un punto en el plano (o espacio) llamado $origen$, y se toma como representante de cada vector al elemento de su clase cuyo punto inicial coincide con el origen. Con esta elección, todo vector está dado $unívocamente$ por un par ordenado de números reales (en el plano), o por una $triupla$ de números reales en el caso del espacio. Visualizar vectores es muy simple; por ejemplo, el vector $\\mathbf{v}=(4,1)$ (del plano) se determina marcando el $punto$ de coordenadas $(4,1)$, y el vector correspondiente es la flecha que va desde el origen hasta el punto de coordenadas $(4,1)$. "
   ]
  },
  {
   "cell_type": "markdown",
   "metadata": {},
   "source": [
    "## Operaciones con vectores. Combinaciones lineales."
   ]
  },
  {
   "cell_type": "markdown",
   "metadata": {},
   "source": [
    "Representamos los vectores del plano como pares ordenados de números reales, y los vectores del espacio como triuplas de números reales. Se los puede considerar como $filas$ o como $columnas$. Por ejemplo, si $\\mathbf{v}=(4,1)$ y $\\mathbf{w}=(3,0,-1)$ como filas, podemos escribirlos también como columnas: $$\\mathbf{v}=\\begin{pmatrix}\n",
    "  4 \\\\\n",
    "  1 \n",
    " \\end{pmatrix},\n",
    " \\qquad\\mathbf{w}=\\begin{pmatrix}\n",
    "  3 \\\\\n",
    "  0 \\\\\n",
    "  -1\n",
    " \\end{pmatrix}.\n",
    " $$\n",
    " \n",
    "Hay dos operaciones básicas: $suma$ $de$ $vectores$ (si $\\mathbf{v}=(a,b)$ y $\\mathbf{w}=(c,d)$, entonces $\\mathbf{v}+\\mathbf{w}:=(a+c,b+d)$ es el vector suma de $\\mathbf{v},\\mathbf{w}$) y $multiplicación$ $de$ $un$ $vector$ $por$ $un$ $escalar$ (si $\\mathbf{v}=(a,b)$ es un vector, y $c$ es un número real, entonces $c\\mathbf{v}:=(ca,cb)$ es el vector producto de $c$ y $\\mathbf{v}$), que se definen por coordenadas. Geométricamente, la suma se define mediante la $regla$ $del$ $paralelogramo$, y el producto cambia la magnitud de $\\|\\mathbf{v}\\|$, a $|c|\\|\\mathbf{v}\\|$, dejando la misma dirección (si $c>0$), y cambiándola por su opuesta (si $c<0$). "
   ]
  },
  {
   "cell_type": "code",
   "execution_count": 1,
   "metadata": {
    "collapsed": true
   },
   "outputs": [],
   "source": [
    "import numpy as np\n",
    "import scipy.linalg as sla\n",
    "import matplotlib.pyplot as plt"
   ]
  },
  {
   "cell_type": "code",
   "execution_count": 58,
   "metadata": {},
   "outputs": [
    {
     "name": "stderr",
     "output_type": "stream",
     "text": [
      "/Users/MacMesser/anaconda3/lib/python3.6/site-packages/matplotlib/cbook/deprecation.py:106: MatplotlibDeprecationWarning: Adding an axes using the same arguments as a previous axes currently reuses the earlier instance.  In a future version, a new instance will always be created and returned.  Meanwhile, this warning can be suppressed, and the future behavior ensured, by passing a unique label to each axes instance.\n",
      "  warnings.warn(message, mplDeprecation, stacklevel=1)\n"
     ]
    },
    {
     "data": {
      "image/png": "[encoded data removed]",
      "text/plain": [
       "<matplotlib.figure.Figure at 0x61c07d908>"
      ]
     },
     "metadata": {},
     "output_type": "display_data"
    }
   ],
   "source": [
    "plt.axis([0, 4, 0, 4])\n",
    "ax = plt.axes()\n",
    "plt.annotate('$\\mathbf{v}$',  xy=(.05, 1.5),xytext=(.4, 1.3)\n",
    "             )\n",
    "plt.annotate('$\\mathbf{v}$',  xy=(.05, 1.5),xytext=(2.5, 1.5)\n",
    "             )\n",
    "plt.annotate('$\\mathbf{w}$',  xy=(.05, 1.5),xytext=(1.8, 2.7)\n",
    "             )\n",
    "plt.annotate('$\\mathbf{w}$',  xy=(.05, 1.5),xytext=(1.3, .4)\n",
    "             )\n",
    "plt.annotate('$\\mathbf{v+w}$',  xy=(.05, 1.5),xytext=(1.3, 1.7)\n",
    "             )\n",
    "ax.arrow(0, 0, 2.,1., head_width=0.05, head_length=0.1, fc='b', ec='b')\n",
    "ax.arrow(0, 0, 1.,2. , head_width=0.05, head_length=0.1, fc='g', ec='g')\n",
    "ax.arrow(1, 2.05, 2,1 , head_width=0.05, head_length=0.1, fc='b', ec='b')\n",
    "ax.arrow(2.05, 1, 1., 2.0 , head_width=0.05, head_length=0.1, fc='g', ec='g')\n",
    "ax.arrow(0, 0, 3, 3 , head_width=0.05, head_length=0.1, fc='r', ec='r')\n",
    "plt.show()"
   ]
  },
  {
   "cell_type": "markdown",
   "metadata": {},
   "source": [
    "Las dos operaciones básicas (suma y producto por escalares) pueden combinarse en una sola, dando la importante noción de $combinación$ $lineal$ de vectores: \n",
    "\n",
    "$$\n",
    "c\\mathbf{v}+d\\mathbf{w},\n",
    "$$ \n",
    "\n",
    "donde $c,d$ son escalares, y $\\mathbf{v},\\mathbf{w}$ son vectores. Lo típico es fijar $\\mathbf{v}$ y $\\mathbf{w}$, y dejar que los escalares $c,d$ recorran el conjunto $\\mathbb{R}$ de los números reales. ¿Qué conjunto se obtiene? ¿Y si $\\mathbf{v}$ y $\\mathbf{w}$ son vectores del espacio?\n",
    "\n",
    "Tenemos las siguientes propiedades: $$\\quad\\mathbf{v}+\\mathbf{w}=\\mathbf{w}+\\mathbf{v} \\,\\, (conmutativa), \\quad \\mathbf{u}+(\\mathbf{v}+\\mathbf{w})=(\\mathbf{u}+\\mathbf{v})+\\mathbf{w}\\,\\, (asociativa),\\,\\,\\, \\mathrm{y} \\,\\,\\,\\, (c+d)\\mathbf{v}=c\\mathbf{v}+d\\mathbf{v},\\quad c(\\mathbf{v}+\\mathbf{w})=c\\mathbf{v}+c\\mathbf{w}\\,\\, (distributivas).$$ \n",
    "\n",
    "Observe que tenemos también un vector $cero$, denotado $\\mathbf{0}$, dado por $\\mathbf{0}=(0,0)$ en el plano, y por $\\mathbf{0}=(0,0,0)$ en el espacio. El cero tiene las propiedades: $\\mathbf{0}+\\mathbf{v}=\\mathbf{v}$,  $c\\,\\mathbf{0}=\\mathbf{0}$, para todo escalar $c$, y $0\\,\\mathbf{v}=\\mathbf{0}$, para todo vector $\\mathbf{v}$. También notamos que todo vector $\\mathbf{v}=(a,b)$ tiene su $opuesto$ $-\\mathbf{v}:=(-a,-b)$, caracterizado por la propiedad: $\\mathbf{v}+(-\\mathbf{v})=\\mathbf{0}.$\n",
    "\n",
    "* El paso de dos a tres dimensiones es sencillo: los vectores tienen tres componentes, en lugar de dos. "
   ]
  },
  {
   "cell_type": "markdown",
   "metadata": {},
   "source": [
    "## Producto escalar (dot product). Longitud de vectores."
   ]
  },
  {
   "cell_type": "markdown",
   "metadata": {},
   "source": [
    "La $longitud$ (o $magnitud$) de un vector $\\mathbf{v}=(a,b,c)$ se denota $\\|\\mathbf{v}\\|$, y se define  $\\|\\mathbf{v}\\|:=\\sqrt{a^2+b^2+c^2}$. El $producto$ $escalar$\n",
    "\n",
    "$$\n",
    "\\boxed{\\,\\,{\\color{red}{\\mathbf{v}\\cdot\\mathbf{w}_{_\\,}:=\\|\\mathbf{v}\\|\\|\\mathbf{w}\\|_{_\\,}\\,\\mathrm{cos }\\, \\theta\\, ,\\,\\,}}}\n",
    "$$\n",
    "\n",
    "donde $0\\leq \\theta\\leq \\pi$ es el ángulo entre $\\mathbf{v}$ y $\\mathbf{w}$. Observe que $\\mathbf{v}\\cdot \\mathbf{w} \\in\\mathbb{R}$, de ahí el nombre \"escalar\". En particular, $\\mathbf{v}\\cdot\\mathbf{v}=\\|\\mathbf{v}\\|^2$, o sea $\\|\\mathbf{v}\\|=\\sqrt{\\mathbf{v}\\cdot \\mathbf{v}}$. Para vectores no nulos, tenemos,\n",
    "\n",
    "$$\n",
    "\\mathrm{cos}\\,\\theta=\\frac{\\mathbf{v}\\cdot \\mathbf{w}}{\\|\\mathbf{v}\\| \\| \\mathbf{w}\\|}\\cdot\n",
    "$$\n",
    "\n",
    "En términos de componentes, si $\\mathbf{v}=(v_1,v_2,v_3)$ y $\\mathbf{w}=(w_1,w_2,w_3)$, entonces:\n",
    "\n",
    "$$\n",
    "\\boxed{\\,\\,{\\color{red}{\\mathbf{v}\\cdot\\mathbf{w}_{_\\,}:=v_1w_1^{^\\,} + v_2w_2+v_3w_{3_{_\\,}.}}}\\,\\,}\n",
    "$$ \n",
    "\n",
    "El producto escalar tiene varias propiedades: es $conmutativo$, $\\mathbf{v}\\cdot \\mathbf{w}=\\mathbf{w}\\cdot \\mathbf{v}$, y $distribuye$ con la suma, $\\mathbf{u}\\cdot (\\mathbf{v}+\\mathbf{w})=\\mathbf{u}\\cdot \\mathbf{v}+\\mathbf{u}\\cdot \\mathbf{w}$. Además, $(c\\mathbf{v}) \\cdot (d\\mathbf{w}) = (cd) (\\mathbf{v} \\cdot \\mathbf{w})$, para escalares $c,d$, y vectores $\\mathbf{v}, \\mathbf{w}$.\n",
    "\n",
    "Los vectores de longitud 1 se llaman $unitarios$ o $normales$; son los que cumplen $\\mathbf{v}\\cdot \\mathbf{v}=1$. El vector unitario en la dirección de $\\mathbf{v}$ es $\\mathbf{v}/ \\|\\mathbf{v}\\|$ (¡COMPRUÉBELO! Interprete geométricamente). Dos vectores son $perpendiculares$ sii $\\mathbf{v}\\cdot \\mathbf{w}=0$. \n",
    "\n",
    "Tenemos dos $desigualdades$ importantes, la de $Cauchy-Schwartz$ (CS) y la $triangular$ (que es consecuencia de la CS): \n",
    "\n",
    "$$\n",
    "|\\mathbf{v}\\cdot\\mathbf{v}| \\leq \\|\\mathbf{v}\\| \\|\\mathbf{v}\\|\\quad\\mathrm{(CS)\\,\\,,}\\qquad\\quad y \\qquad\\quad \\|\\mathbf{v} + \\mathbf{w}\\| \\leq \\|\\mathbf{v} \\| + \\|\\mathbf{w}\\|\\quad\\mathrm{(triangular)}.\n",
    "$$\n",
    "\n",
    "Efectivamente, podemos deducir la desigualdad triangular de la de CS, de la siguiente manera:"
   ]
  },
  {
   "cell_type": "markdown",
   "metadata": {},
   "source": [
    "$\n",
    "\\begin{align}\n",
    "\\|\\mathbf{v} + \\mathbf{w}\\|^2 & = (\\mathbf{v} + \\mathbf{w})\\cdot (\\mathbf{v} + \\mathbf{w}) \\\\\n",
    "& = (\\mathbf{v}\\cdot\\mathbf{v})^2 + 2\\, \\mathbf{v}\\cdot\\mathbf{w} + (\\mathbf{w}\\cdot\\mathbf{w})^2 \\\\\n",
    "& = \\|\\mathbf{v}\\|^2 +2\\, \\mathbf{v}\\cdot\\mathbf{w} + \\|\\mathbf{w} \\|^2\\\\\n",
    "& \\leq (\\|\\mathbf{v}\\| + \\|\\mathbf{w}\\|)^2, \\quad \\mathrm{usando}\\,\\, \\mathrm{CS.}\n",
    "\\end{align}\n",
    "$"
   ]
  },
  {
   "cell_type": "markdown",
   "metadata": {},
   "source": [
    "* El EJEMPLO 6 (p. 16) del libro da una aplicación interesante de la desigualdad CS."
   ]
  },
  {
   "cell_type": "markdown",
   "metadata": {},
   "source": [
    "Usamos Numpy para calcular con vectores. \n",
    "\n",
    "El siguiente vector representa $\\mathbf{v}=(1,2,3)$ como fila, como podemos comprobar examinando su forma (shape)."
   ]
  },
  {
   "cell_type": "code",
   "execution_count": 60,
   "metadata": {},
   "outputs": [
    {
     "data": {
      "text/plain": [
       "((1, 3), array([[1, 2, 3]]))"
      ]
     },
     "execution_count": 60,
     "metadata": {},
     "output_type": "execute_result"
    }
   ],
   "source": [
    "v=np.array([[1,2,3]])\n",
    "v.shape , v"
   ]
  },
  {
   "cell_type": "markdown",
   "metadata": {},
   "source": [
    "Para ver $\\mathbf{v}$ como columna, podemos transponer:"
   ]
  },
  {
   "cell_type": "code",
   "execution_count": 61,
   "metadata": {},
   "outputs": [
    {
     "data": {
      "text/plain": [
       "((3, 1), array([[1],\n",
       "        [2],\n",
       "        [3]]))"
      ]
     },
     "execution_count": 61,
     "metadata": {},
     "output_type": "execute_result"
    }
   ],
   "source": [
    "vt=v.T\n",
    "vt.shape , vt"
   ]
  },
  {
   "cell_type": "markdown",
   "metadata": {},
   "source": [
    "Calculamos $\\mathbf{v}\\cdot\\mathbf{v}=\\|\\mathbf{v}\\|^2$, multiplicando las matrices $\\mathbf{v}\\,\\mathbf{v}^T= (1,2,3)\\,(1,2,3)^T=14$."
   ]
  },
  {
   "cell_type": "code",
   "execution_count": 62,
   "metadata": {},
   "outputs": [
    {
     "data": {
      "text/plain": [
       "array([[14]])"
      ]
     },
     "execution_count": 62,
     "metadata": {},
     "output_type": "execute_result"
    }
   ],
   "source": [
    "v.dot(vt)"
   ]
  },
  {
   "cell_type": "markdown",
   "metadata": {},
   "source": [
    "Otra manera de obtener $\\mathbf{v}$ $como$ $columna$ es:"
   ]
  },
  {
   "cell_type": "code",
   "execution_count": 6,
   "metadata": {},
   "outputs": [
    {
     "data": {
      "text/plain": [
       "(3, 1)"
      ]
     },
     "execution_count": 6,
     "metadata": {},
     "output_type": "execute_result"
    }
   ],
   "source": [
    "w=np.array([[1],[2],[3]])\n",
    "w.shape"
   ]
  },
  {
   "cell_type": "code",
   "execution_count": 7,
   "metadata": {},
   "outputs": [
    {
     "data": {
      "text/plain": [
       "array([[14]])"
      ]
     },
     "execution_count": 7,
     "metadata": {},
     "output_type": "execute_result"
    }
   ],
   "source": [
    "v.dot(w)"
   ]
  },
  {
   "cell_type": "markdown",
   "metadata": {},
   "source": [
    "Para generar $aleatoriamente$ vectores en el espacio, podemos hacer:"
   ]
  },
  {
   "cell_type": "code",
   "execution_count": 85,
   "metadata": {},
   "outputs": [
    {
     "data": {
      "text/plain": [
       "array([[ 0.7671232 ,  0.85157476,  0.55862113]])"
      ]
     },
     "execution_count": 85,
     "metadata": {},
     "output_type": "execute_result"
    }
   ],
   "source": [
    "np.random.random((1,3)) #  ¿qué sucede si hacemos: np.random.random((2,3))?"
   ]
  },
  {
   "cell_type": "markdown",
   "metadata": {},
   "source": [
    "## Matrices"
   ]
  },
  {
   "cell_type": "markdown",
   "metadata": {},
   "source": [
    "Una matriz de tamaño (o forma) $3\\times 2$ es un arreglo rectangular de números reales, con $3$ filas y 2 columnas. Por ejemplo, \n",
    "\n",
    "$$A = \n",
    " \\begin{pmatrix}\n",
    "  1 & 3.5 \\\\\n",
    "  \\sqrt{2} & 0  \\\\\n",
    "  1/3 & -\\pi \n",
    " \\end{pmatrix}.$$\n",
    " \n",
    " Dado un vector $\\mathbf{x}^T=(x_1,x_2)$, podemos multiplicar $A\\,\\mathbf{x}$, y obtener una matriz $3\\times 1$, es decir, una columna con 3 elementos:\n",
    " \n",
    " $$A\\,\\mathbf{x}=\n",
    "  \\begin{pmatrix}\n",
    "  1 & 3.5 \\\\\n",
    "  \\sqrt{2} & 0  \\\\\n",
    "  1/3 & -\\pi \n",
    " \\end{pmatrix}\n",
    "  \\begin{pmatrix}\n",
    "  x_1 \\\\\n",
    "  x_2  \n",
    " \\end{pmatrix}\n",
    " = \\begin{pmatrix}\n",
    " x_1 + 3.5 x_2 \\\\\n",
    "  \\sqrt{2} x_1  \\\\\n",
    "  1/3 x_1 -\\pi x_2\n",
    " \\end{pmatrix}\n",
    " =\n",
    " x_1  \\begin{pmatrix}\n",
    "  1  \\\\\n",
    "  \\sqrt{2} \\\\\n",
    "  1/3\n",
    " \\end{pmatrix}\n",
    " +\n",
    " x_2  \\begin{pmatrix}\n",
    "  3,5 \\\\\n",
    "   0  \\\\\n",
    "  -\\pi \n",
    " \\end{pmatrix}.$$\n",
    " \n",
    " \n",
    "* OBSERVACIÓN IMPORTANTE. El producto $A\\,\\mathbf{x}$ puede verse como una combinatión lineal de las columnas de $A$, con coefficientes $x_1,\\, x_2$. También puede verse como el producto escalar de las filas de $A$ con $\\mathbf{x}$: \n",
    "\n",
    "$$ \n",
    "A\\,\\mathbf{x}=\n",
    "  \\begin{pmatrix}\n",
    "  1 & 3.5 \\\\\n",
    "  \\sqrt{2} & 0  \\\\\n",
    "  1/3 & -\\pi \n",
    " \\end{pmatrix}\n",
    "  \\begin{pmatrix}\n",
    "  x_1 \\\\\n",
    "  x_2  \n",
    " \\end{pmatrix}\n",
    " = \\begin{pmatrix}\n",
    "  (1,3.5)\\cdot(x_1,x_2) \\\\\n",
    "  (\\sqrt{2},0)\\cdot (x_1,x_2)  \\\\\n",
    "  (1/3,-\\pi)\\cdot(x_1,x_2) \n",
    " \\end{pmatrix}\n",
    " \\qquad (1)\n",
    "$$\n",
    " \n",
    "En Python:"
   ]
  },
  {
   "cell_type": "code",
   "execution_count": 9,
   "metadata": {},
   "outputs": [
    {
     "data": {
      "text/plain": [
       "array([[ 1.        ,  3.5       ],\n",
       "       [ 1.41421356,  0.        ],\n",
       "       [ 0.33333333, -3.14159265]])"
      ]
     },
     "execution_count": 9,
     "metadata": {},
     "output_type": "execute_result"
    }
   ],
   "source": [
    "A=np.array([[1,3.5],[2**0.5 ,0],[1/3,-np.pi]])# define una matriz, la asigna a la variable A, y pide A\n",
    "A"
   ]
  },
  {
   "cell_type": "code",
   "execution_count": 10,
   "metadata": {},
   "outputs": [
    {
     "data": {
      "text/plain": [
       "(3, 2)"
      ]
     },
     "execution_count": 10,
     "metadata": {},
     "output_type": "execute_result"
    }
   ],
   "source": [
    "A.shape #pregunta por la forma de A"
   ]
  },
  {
   "cell_type": "code",
   "execution_count": 11,
   "metadata": {},
   "outputs": [
    {
     "data": {
      "text/plain": [
       "array([[ 10.        ],\n",
       "       [  4.24264069],\n",
       "       [ -5.28318531]])"
      ]
     },
     "execution_count": 11,
     "metadata": {},
     "output_type": "execute_result"
    }
   ],
   "source": [
    "X=np.array([[3],[2]]) #define un vector columna X\n",
    "A.dot(X) #calcula el producto AX"
   ]
  },
  {
   "cell_type": "markdown",
   "metadata": {},
   "source": [
    "Si $\\mathbf{b}^T=(b_1,b_2,b_3)$, podemos considerar la ecuación matricial $A\\,\\mathbf{x}=\\mathbf{b}$, o sea: $$\n",
    "  \\begin{pmatrix}\n",
    "  1 & 3,5 \\\\\n",
    "  \\sqrt{2} & 0  \\\\\n",
    "  1/3 & -\\pi \n",
    " \\end{pmatrix}\n",
    "  \\begin{pmatrix}\n",
    "  x_1 \\\\\n",
    "  x_2  \n",
    " \\end{pmatrix}\n",
    " =\n",
    "  \\begin{pmatrix}\n",
    "  b_1 \\\\\n",
    "  b_2 \\\\\n",
    "  b_3\n",
    " \\end{pmatrix},\n",
    " \\quad\n",
    " \\mathrm{que}\\,\\,\\mathrm{equivale}\\,\\, \\mathrm{al}\\,\\, \\mathrm{sistema} \\quad\n",
    "\\left\\{\\begin{aligned}\n",
    "        x_1+3.5\\,x_2&=b_1\\\\\n",
    "        \\sqrt{2}\\, x_1  &=b_2 \\\\\n",
    "        1/3\\, x_1 -\\pi \\, x_2 &= b_3\n",
    "       \\end{aligned}\n",
    " \\right.\n",
    " .$$\n",
    " Una ecuación de la forma $A\\,\\mathbf{x}=\\mathbf{b}$, cuando $A$ es $cuadrada$, puede (¡a veces!) resolverse multiplicando por $A^{-1}$, la matriz $inversa$ de $A$, obteniendo la solución $\\mathbf{x}=A^{-1}\\, \\mathbf{b}$. Compare con la ecuación $a\\, x = b$ ($a,b\\in \\mathbb{R}$), con solución $x=b/a=a^{-1}b$ (OJO: ¡siempre y cuando $a\\neq 0$!)."
   ]
  },
  {
   "cell_type": "markdown",
   "metadata": {},
   "source": [
    "${\\color{red}{\\mathrm{OTRO}}}$ ${\\color{red}{\\mathrm{EJEMPLO:}}}$ \n",
    "\n",
    "$$\n",
    "\\begin{pmatrix}\n",
    "  -1 & 0 \\\\\n",
    "  0 & 1 \n",
    " \\end{pmatrix}\n",
    "  \\begin{pmatrix}\n",
    "  x \\\\\n",
    "  y  \n",
    " \\end{pmatrix}\n",
    " =\n",
    "  \\begin{pmatrix}\n",
    "  -x \\\\\n",
    "  y \n",
    " \\end{pmatrix},\n",
    "$$\n",
    "\n",
    "Podemos ver este producto como \"realizando una acción\": $(x,y)\\mapsto (-x,y)$. O sea, transforma cada punto $(x,y)\\in \\mathbb{R}$, en el punto $(-x,y)\\in \\mathbb{R}$, que es su reflexión en el \"espejo\" dado por la recta $x=0$ (el eje de las $y$)."
   ]
  },
  {
   "cell_type": "markdown",
   "metadata": {},
   "source": [
    "La ecuación (1) puede verse como la definición del producto de dos matrices: las filas de toda matriz puede considerarse un vector y, si los tamaños coinciden, puede hacerse el producto escalar de las filas, como en la ecuación (1)."
   ]
  },
  {
   "cell_type": "markdown",
   "metadata": {},
   "source": [
    "## Producto de matrices."
   ]
  },
  {
   "cell_type": "markdown",
   "metadata": {},
   "source": [
    "Sea $A$ una matriz $m \\times n$, y sea $B$ otra matriz, de tamaño $n\\times k$. Por entradas, $A=(a_{ij})$, con $1\\leq i\\leq m$, y $1\\leq j\\leq n$, y del mismo modo, $B=(b_{ij})$, con $1\\leq i\\leq n$, y $1\\leq j \\leq k$. Por filas, $A$ tiene $m$ filas $f_1,\\dots,f_m$, cada una con $n$ componentes, y $B$ tiene $k$ columnas $g_1^T,\\dots,g_k^T$, cada una de $n$ componentes. Examinando los tamaños, \n",
    "\n",
    "$$m\\times \\underline{n}\\quad\\underline{n}\\times k,$$ \n",
    "\n",
    "vemos que los \"internos\", subrayados, son $iguales$; bajo esta condición el $producto$ $AB$ existe, y es una matriz de tamaño $m\\times k$, e.d. los valores no subrayados, \"externos\". La matriz $AB$ tiene $m$ filas; la primera es $f_1\\cdot g_1,f_1\\cdot g_2,\\dots,f_1\\cdot g_k$, donde $f_i\\cdot g_j$ es el producto escalar de los vectores $f_i$ y $g_j$. Observe que si consideramos estos vectores como matrices, ambas de tamaño $1 \\times n$, resulta que \n",
    "\n",
    "$$\n",
    "\\boxed{\\color{red} {c_{ij}:=f_i\\cdot g_j = f_i\\, g_j^T}}\\qquad (2)\n",
    "$$\n",
    "\n",
    "donde $AB=(c_{ij})$ ($1\\leq i \\leq m$, $1\\leq j\\leq k$) especifica la matriz $A$ diciendo que en la posición $ij$ va la entrada $a_{ij}$. El término intermedio es el producto escalar de vectores, y el último es el producto de matrices. \n",
    "\n",
    "La segunda fila de $A\\, B$ es $f_2\\cdot g_1,f_2\\cdot g_2,\\dots,f_2\\cdot g_k$, y así siguiendo hasta llegar a la fila $m$-ésima: $f_m\\cdot g_1,f_m\\cdot g_2,\\dots,f_m\\cdot g_k$. Observe que cada una de estas filas tiene $k$ componentes. Podemos también explícitar los tamaños, así:\n",
    "\n",
    "$$\n",
    "A_{m\\times n}\\, B_{n\\times k} = AB_{m\\times k}.\n",
    "$$\n",
    "\n",
    "Si traducimos el producto escalar (o matricial) de la ecuación (2), obtenemos la fórmula del producto $AB$ por elementos:\n",
    "\n",
    "$$\n",
    "\\boxed{{\\color{red} {\\quad c_{ij} = \\sum_\\ell^n a_{i\\ell} b_{\\ell j}}}\\qquad (3)\\quad}\n",
    "$$\n",
    "\n",
    "NOTA: el producto de matrices no es diferente del producto de $una$ matriz por $una$ columna $A\\mathbf{x}=\\mathbf{b}$. Se trata, simplemente, de multiplicar $A$ no solo por una columna, sino por $cada$ $una$ de las columnas de la matriz $B$. O sea\n",
    "\n",
    "$$\n",
    "\\boxed{\\color{red}{AB= (Ag_1^T, Ag_2^T, \\dots, Ag_k^T)}}\n",
    "$$\n",
    "\n",
    "Veamos el siguiente ejemplo ajecutado en Python. El tamaño de $A$ es $3\\times 3$, y el de $B$ es $3\\times 2$, de modo que el producto está definido y tendrá tamaño $3\\times 2$."
   ]
  },
  {
   "cell_type": "code",
   "execution_count": 84,
   "metadata": {},
   "outputs": [
    {
     "data": {
      "text/plain": [
       "array([[ 10,  50],\n",
       "       [ 30, 100],\n",
       "       [120, 300]])"
      ]
     },
     "execution_count": 84,
     "metadata": {},
     "output_type": "execute_result"
    }
   ],
   "source": [
    "A=np.array([[1,0,0],[-1,1 ,0],[0, -1,1]])# matriz 3x3\n",
    "B=np.array([[10,50],[40,150],[160 ,450]])# matriz 3x2\n",
    "A.dot(B) # = AB, el producto matricial de A y B, de tamaño 3x2 \"=\" (3x|3|)(|3|x2) "
   ]
  },
  {
   "cell_type": "markdown",
   "metadata": {},
   "source": [
    "La matriz $A$ es una $matriz$ $diferencia$, porque transforma una columna $\\mathbf{b}^T = (x_1,x_2,x_3)$, en la columna $(x_1, x_2-x_1, x_3-x_2)$, como podemos verificar examinando el producto $AB$ (mejor todavía, calcule el producto $A\\mathbf{b}$).\n",
    "\n",
    "Si en cambio intentamos calcular $BA$:"
   ]
  },
  {
   "cell_type": "code",
   "execution_count": 13,
   "metadata": {
    "scrolled": true
   },
   "outputs": [
    {
     "ename": "ValueError",
     "evalue": "shapes (3,2) and (3,3) not aligned: 2 (dim 1) != 3 (dim 0)",
     "output_type": "error",
     "traceback": [
      "\u001b[0;31m---------------------------------------------------------------------------\u001b[0m",
      "\u001b[0;31mValueError\u001b[0m                                Traceback (most recent call last)",
      "\u001b[0;32m<ipython-input-13-2a9ed6ca1eee>\u001b[0m in \u001b[0;36m<module>\u001b[0;34m()\u001b[0m\n\u001b[0;32m----> 1\u001b[0;31m \u001b[0mB\u001b[0m\u001b[0;34m.\u001b[0m\u001b[0mdot\u001b[0m\u001b[0;34m(\u001b[0m\u001b[0mA\u001b[0m\u001b[0;34m)\u001b[0m\u001b[0;34m\u001b[0m\u001b[0m\n\u001b[0m",
      "\u001b[0;31mValueError\u001b[0m: shapes (3,2) and (3,3) not aligned: 2 (dim 1) != 3 (dim 0)"
     ]
    }
   ],
   "source": [
    "B.dot(A)"
   ]
  },
  {
   "cell_type": "markdown",
   "metadata": {},
   "source": [
    "Python nos da un mensaje de ERROR, ya que los tamaños no permiten hacer la multiplicación."
   ]
  },
  {
   "cell_type": "markdown",
   "metadata": {},
   "source": [
    "## Propiedades del producto y la suma de matrices."
   ]
  },
  {
   "cell_type": "markdown",
   "metadata": {
    "collapsed": true
   },
   "source": [
    "Las matrices (del mismo tamaño $m\\times n$) se suman elemento a elemento; observe que cuando $n=1$, la suma de matrices se reduce a la suma de vectores. El producto de un escalar $c$ por una matriz $A=(a_{ij})$, también se hace coordenada a coordenada: $c\\, A=(c\\, a_{ij})$. Nuevamente, cuando $n=1$, el producto por escalares se reduce al producto de un vector por un escalar."
   ]
  },
  {
   "cell_type": "markdown",
   "metadata": {},
   "source": [
    "### Propiedes de la suma y producto por escalares."
   ]
  },
  {
   "cell_type": "markdown",
   "metadata": {},
   "source": [
    "$$\n",
    " A+B = B+A \\quad  \\mathrm{conmutativa}  \\\\\n",
    "c(A+B) = cA + cB  \\qquad  \\mathrm{distributiva}  \\\\\n",
    "(A+B)+C = A+(B+C) \\qquad  \\mathrm{asociativa}  \n",
    "$$\n",
    "\n",
    "Supongamos ahora que $A$ y $B$ son $cuadradas$, es decir, $m=n=k$. En estas condiciones, no solo existe $AB$, sino también $BA$. Estas operaciones tienen las siguientes propiedades:\n",
    "\n",
    "$$\n",
    "AB \\neq BA \\qquad \\mathrm{en} \\,\\,\\mathrm{general} \\,\\, \\mathrm{no}\\,\\, \\mathrm{conmutativa} \\\\\n",
    "A(B+C) = AB + AC \\qquad \\mathrm{distributiva} \\,\\, \\mathrm{por} \\,\\, \\mathrm{izquierda} \\\\\n",
    "(A+B)C = AB + AC \\qquad \\mathrm{distributiva} \\,\\, \\mathrm{por} \\,\\, \\mathrm{derecha} \\\\\n",
    "A(BC)=A(BC) \\qquad \\mathrm{asociatividad} \\,\\, \\mathrm{del} \\,\\, \\mathrm{producto}\n",
    "$$\n",
    "\n",
    "Usando la ley asociativa del producto, podemos definir $potencias$ de una matriz ($\\, p,\\, q\\geq 1$):\n",
    "\n",
    "$$\n",
    "A^p=\\overbrace{\n",
    "A A \\dots A}^{p \\,\\, \\mathrm{factores}}, \\qquad (A^p)(B^q) = AB^{p+q}, \\qquad (A^p)^q= A^{p+q}.\n",
    "$$"
   ]
  },
  {
   "cell_type": "markdown",
   "metadata": {},
   "source": [
    "### Matrices bloque y multiplicación de bloques"
   ]
  },
  {
   "cell_type": "markdown",
   "metadata": {},
   "source": [
    "Si, por ejemplo, si $A$ y $B$ están dadas en bloques, también podemos multiplicar bloque a bloque (los tamaños deben coincidir):\n",
    "\n",
    "$$\n",
    "\\begin{pmatrix}\n",
    "  A_{11} & A_{12} \\\\\n",
    "  A_{21} & A_{22}  \n",
    " \\end{pmatrix} \\,\\, \n",
    "\\begin{pmatrix}\n",
    "  B_{11} \\\\\n",
    "  B_{21}   \n",
    " \\end{pmatrix}\n",
    " \\qquad\n",
    " =\n",
    " \\qquad\n",
    "\\begin{pmatrix}\n",
    "  A_{11}B_{11} + A_{12}B_{21}\\\\\n",
    "  A_{11}B_{21} + A_{22}B_{21}  \n",
    " \\end{pmatrix} \n",
    " .\n",
    "$$\n"
   ]
  },
  {
   "cell_type": "markdown",
   "metadata": {},
   "source": [
    "## Ecuaciones lineales."
   ]
  },
  {
   "cell_type": "markdown",
   "metadata": {},
   "source": [
    "   Una ecuación de la forma $A\\mathbf{x}=\\mathbf{b}$, con $A$ de tamaño $3\\times 3$, y $\\mathbf{x},\\mathbf{b}$ de tamaño $3\\times 1$, puede verse de varias maneras. Dado que el producto $A\\mathbf{x}$ es aquella combinación lineal de las columnas de $A$ que se obtiene al tomar las componentes de $\\mathbf{x}$ como coeficientes, $A\\mathbf{x}$ nos permite calcular, al variar $\\mathbf{x}$, aquellos valores $\\mathbf{b}$ que pueden obtenerse como combinaciones lineales de dichas columnas. En esta interpretación, la ecuación $A\\mathbf{x}=\\mathbf{b}$ (al variar $\\mathbf{x}$) responde a la pregunta ¿cuál es el conjunto de todas la combinaciones lineales de las columnas de $A$? En esta versión, estamos considerando a $A$ como una función (o transformación) del espacio 3-dimensional en sí mismo: $\\mathbf{x}\\mapsto A\\mathbf{x}=\\mathbf{b}$, que transforma el vector $\\mathbf{x}$ en el vector $A\\mathbf{x}=\\mathbf{b}$.\n",
    "\n",
    "Otro punto de vista se obtiene fijando un cierto valor de $\\mathbf{b}$, y considerando $\\mathbf{x}$ como $incógnita$. En este caso, al plantearnos la ecuación $A\\mathbf{x}=\\mathbf{b}$, nos estamos preguntando si $\\mathbf{b}$ puede obtenerse como  combinación lineal de las columans de $A$ y, si la respuesta es afirmativa, encontrar explícitamente una(s) combinación lineal que dé $\\mathbf{b}$. Ya vimos que en este caso la ecuación $A\\mathbf{x}=\\mathbf{b}$ es lo mismo que un $sistema$ $de$ $ecuaciones$ $lineales$, y que a veces puede resolverse mediante la fórmula: $\\mathbf{x}=A^{-1}\\mathbf{b}$, donde $A^{-1}$ es la matriz inversa de $A$. Usamos Python tomoando como $A$ a la matriz diferencia:"
   ]
  },
  {
   "cell_type": "code",
   "execution_count": 94,
   "metadata": {},
   "outputs": [
    {
     "data": {
      "text/plain": [
       "array([[ 1,  0,  0],\n",
       "       [-1,  1,  0],\n",
       "       [ 0, -1,  1]])"
      ]
     },
     "execution_count": 94,
     "metadata": {},
     "output_type": "execute_result"
    }
   ],
   "source": [
    "A"
   ]
  },
  {
   "cell_type": "code",
   "execution_count": 14,
   "metadata": {},
   "outputs": [
    {
     "data": {
      "text/plain": [
       "array([[ 1.,  0.,  0.],\n",
       "       [ 1.,  1.,  0.],\n",
       "       [ 1.,  1.,  1.]])"
      ]
     },
     "execution_count": 14,
     "metadata": {},
     "output_type": "execute_result"
    }
   ],
   "source": [
    "invA=np.linalg.inv(A)\n",
    "invA"
   ]
  },
  {
   "cell_type": "code",
   "execution_count": 15,
   "metadata": {},
   "outputs": [
    {
     "data": {
      "text/plain": [
       "array([[ 1., -0., -0.],\n",
       "       [ 1.,  1., -0.],\n",
       "       [ 1.,  1.,  1.]])"
      ]
     },
     "execution_count": 15,
     "metadata": {},
     "output_type": "execute_result"
    }
   ],
   "source": [
    "sla.inv(A)"
   ]
  },
  {
   "cell_type": "code",
   "execution_count": 16,
   "metadata": {},
   "outputs": [
    {
     "data": {
      "text/plain": [
       "array([[ 1.],\n",
       "       [ 4.],\n",
       "       [ 9.]])"
      ]
     },
     "execution_count": 16,
     "metadata": {},
     "output_type": "execute_result"
    }
   ],
   "source": [
    "b=np.array([[1],[3],[5]])\n",
    "invA.dot(b)"
   ]
  },
  {
   "cell_type": "markdown",
   "metadata": {},
   "source": [
    "Un sistema $A\\mathbf{x}=\\mathbf{b}$ no siempre tiene solución. Por ejemplo, la matriz $C$ (definida abajo, en Python) transforma $\\mathbf{x}=(x_1,x_2,x_3)$, en $C\\mathbf{x}=\\mathbf{b}=(x_1-x_3,x_2-x_1,x_3-x_2)$ (¡COMPRUÉBELO!). Por esta razón se la llama $cíclica$ o $circulante$ (ver cómo definirlas en Python, al final). Resulta que el sistema $C\\mathbf{x}=\\mathbf{b}$ tiene $infinitas$ soluciones (de la forma $\\mathbf{x}=(k,k,k)$, con $k$ una constante cualquiera) cuando $\\mathbf{b}=\\mathbf{0}$, y $ninguna$ solución cuando, por ejemplo, $\\mathbf{b}=(1,1,0)$ (¡COMPRUÉBELO!). Si Intentamos calcular la inversa de $C$:"
   ]
  },
  {
   "cell_type": "code",
   "execution_count": 17,
   "metadata": {},
   "outputs": [
    {
     "data": {
      "text/plain": [
       "array([[ 1,  0, -1],\n",
       "       [-1,  1,  0],\n",
       "       [ 0, -1,  1]])"
      ]
     },
     "execution_count": 17,
     "metadata": {},
     "output_type": "execute_result"
    }
   ],
   "source": [
    "C=np.array([[1,0,-1],[-1,1,0],[0,-1,1]])\n",
    "C"
   ]
  },
  {
   "cell_type": "code",
   "execution_count": 18,
   "metadata": {},
   "outputs": [
    {
     "ename": "LinAlgError",
     "evalue": "Singular matrix",
     "output_type": "error",
     "traceback": [
      "\u001b[0;31m---------------------------------------------------------------------------\u001b[0m",
      "\u001b[0;31mLinAlgError\u001b[0m                               Traceback (most recent call last)",
      "\u001b[0;32m<ipython-input-18-dbe3e707adf9>\u001b[0m in \u001b[0;36m<module>\u001b[0;34m()\u001b[0m\n\u001b[0;32m----> 1\u001b[0;31m \u001b[0minvC\u001b[0m\u001b[0;34m=\u001b[0m\u001b[0mnp\u001b[0m\u001b[0;34m.\u001b[0m\u001b[0mlinalg\u001b[0m\u001b[0;34m.\u001b[0m\u001b[0minv\u001b[0m\u001b[0;34m(\u001b[0m\u001b[0mC\u001b[0m\u001b[0;34m)\u001b[0m\u001b[0;34m\u001b[0m\u001b[0m\n\u001b[0m",
      "\u001b[0;32m~/anaconda3/lib/python3.6/site-packages/numpy/linalg/linalg.py\u001b[0m in \u001b[0;36minv\u001b[0;34m(a)\u001b[0m\n\u001b[1;32m    511\u001b[0m     \u001b[0msignature\u001b[0m \u001b[0;34m=\u001b[0m \u001b[0;34m'D->D'\u001b[0m \u001b[0;32mif\u001b[0m \u001b[0misComplexType\u001b[0m\u001b[0;34m(\u001b[0m\u001b[0mt\u001b[0m\u001b[0;34m)\u001b[0m \u001b[0;32melse\u001b[0m \u001b[0;34m'd->d'\u001b[0m\u001b[0;34m\u001b[0m\u001b[0m\n\u001b[1;32m    512\u001b[0m     \u001b[0mextobj\u001b[0m \u001b[0;34m=\u001b[0m \u001b[0mget_linalg_error_extobj\u001b[0m\u001b[0;34m(\u001b[0m\u001b[0m_raise_linalgerror_singular\u001b[0m\u001b[0;34m)\u001b[0m\u001b[0;34m\u001b[0m\u001b[0m\n\u001b[0;32m--> 513\u001b[0;31m     \u001b[0mainv\u001b[0m \u001b[0;34m=\u001b[0m \u001b[0m_umath_linalg\u001b[0m\u001b[0;34m.\u001b[0m\u001b[0minv\u001b[0m\u001b[0;34m(\u001b[0m\u001b[0ma\u001b[0m\u001b[0;34m,\u001b[0m \u001b[0msignature\u001b[0m\u001b[0;34m=\u001b[0m\u001b[0msignature\u001b[0m\u001b[0;34m,\u001b[0m \u001b[0mextobj\u001b[0m\u001b[0;34m=\u001b[0m\u001b[0mextobj\u001b[0m\u001b[0;34m)\u001b[0m\u001b[0;34m\u001b[0m\u001b[0m\n\u001b[0m\u001b[1;32m    514\u001b[0m     \u001b[0;32mreturn\u001b[0m \u001b[0mwrap\u001b[0m\u001b[0;34m(\u001b[0m\u001b[0mainv\u001b[0m\u001b[0;34m.\u001b[0m\u001b[0mastype\u001b[0m\u001b[0;34m(\u001b[0m\u001b[0mresult_t\u001b[0m\u001b[0;34m,\u001b[0m \u001b[0mcopy\u001b[0m\u001b[0;34m=\u001b[0m\u001b[0;32mFalse\u001b[0m\u001b[0;34m)\u001b[0m\u001b[0;34m)\u001b[0m\u001b[0;34m\u001b[0m\u001b[0m\n\u001b[1;32m    515\u001b[0m \u001b[0;34m\u001b[0m\u001b[0m\n",
      "\u001b[0;32m~/anaconda3/lib/python3.6/site-packages/numpy/linalg/linalg.py\u001b[0m in \u001b[0;36m_raise_linalgerror_singular\u001b[0;34m(err, flag)\u001b[0m\n\u001b[1;32m     88\u001b[0m \u001b[0;34m\u001b[0m\u001b[0m\n\u001b[1;32m     89\u001b[0m \u001b[0;32mdef\u001b[0m \u001b[0m_raise_linalgerror_singular\u001b[0m\u001b[0;34m(\u001b[0m\u001b[0merr\u001b[0m\u001b[0;34m,\u001b[0m \u001b[0mflag\u001b[0m\u001b[0;34m)\u001b[0m\u001b[0;34m:\u001b[0m\u001b[0;34m\u001b[0m\u001b[0m\n\u001b[0;32m---> 90\u001b[0;31m     \u001b[0;32mraise\u001b[0m \u001b[0mLinAlgError\u001b[0m\u001b[0;34m(\u001b[0m\u001b[0;34m\"Singular matrix\"\u001b[0m\u001b[0;34m)\u001b[0m\u001b[0;34m\u001b[0m\u001b[0m\n\u001b[0m\u001b[1;32m     91\u001b[0m \u001b[0;34m\u001b[0m\u001b[0m\n\u001b[1;32m     92\u001b[0m \u001b[0;32mdef\u001b[0m \u001b[0m_raise_linalgerror_nonposdef\u001b[0m\u001b[0;34m(\u001b[0m\u001b[0merr\u001b[0m\u001b[0;34m,\u001b[0m \u001b[0mflag\u001b[0m\u001b[0;34m)\u001b[0m\u001b[0;34m:\u001b[0m\u001b[0;34m\u001b[0m\u001b[0m\n",
      "\u001b[0;31mLinAlgError\u001b[0m: Singular matrix"
     ]
    }
   ],
   "source": [
    "invC=np.linalg.inv(C)"
   ]
  },
  {
   "cell_type": "markdown",
   "metadata": {},
   "source": [
    "Python nos contesta con ${\\color{red}{ERROR}}$: la matriz $C$ es $singular$, e.d. no tiene inversa."
   ]
  },
  {
   "cell_type": "markdown",
   "metadata": {},
   "source": [
    "Es importante interpretar geométricamente estos resultados sobre el sistema $C\\mathbf{x}=\\mathbf{b}$. Para ello usamos la primera forma de ver esa ecuación, o sea, dejamos que $\\mathbf{x}$ varíe y examinamos el conjunto de vectores $\\mathbf{b}$ que obtenermos como combinaciones lineales de las columnas de $C$. Estas son de la forma $(x_1-x_3,x_2-x_1,x_3-x_2)$, o sea, vectores de la forma $\\mathbf{b}=(b_1,b_2,b_3)$ que cumplen la condición $b_1+b_2+b_3=0$. Obviamente, no todos los vectores del espacio satisfacen esta condición. O sea, no todo vector del espacio es de la forma $C\\mathbf{x}$, para algún $\\mathbf{x}$; dicho de otro modo: no siempre el sistema $C\\mathbf{x}=\\mathbf{b}$ tendrá solución. De hecho, los vectores que cumplen que la suma de sus componentes es cero, forman un $plano$ de ecuación $b_1+b_2+b_3=0$, es decir, el plano que pasa por el origen $\\mathbf{0}$, y es perpendicular al vector $\\mathbf{v}=(1,1,1)$. \n",
    "\n",
    "* VER la Fig. 10 en la página 26 de libro."
   ]
  },
  {
   "cell_type": "markdown",
   "metadata": {},
   "source": [
    "## Dependencia e independencia lineales."
   ]
  },
  {
   "cell_type": "markdown",
   "metadata": {},
   "source": [
    "Decimos que tres vectores $\\mathbf{u}, \\mathbf{v},\\mathbf{w}$ son $linealmente$ $dependientes$ (ld) cuando $existe$ una combinación lineal $no$ $trivial$ de ellos que da $\\mathbf{0}$, o sea, cuando \n",
    "\n",
    "$$\n",
    "a\\mathbf{u}+ b\\mathbf{v}+ c\\mathbf{w}=\\mathbf{0},\n",
    "$$ \n",
    "\n",
    "para algunos coeficientes $a,b,c$, no todos cero (e.d., tales que $(a,b,c)\\neq \\mathbf{0}$. Por EJEMPLO, la columnas de $C$ son linealmente dependientes (¡COMPRUÉBELO!).\n",
    "\n",
    "Los vectores $\\mathbf{u}, \\mathbf{v},\\mathbf{w}$ son $linealmente$ $independientes (li) cuando $no$ son linealmente dependientes, es decir, cuando la ecuación \n",
    "\n",
    "$$\n",
    "a\\mathbf{u}+ b\\mathbf{v}+ c\\mathbf{w}=\\mathbf{0},\\quad \\mathrm{implica}\\,\\, \\mathrm{que}\\quad a=b=c=0.\n",
    "$$ \n",
    "\n",
    "Por EJEMPLO, las columnas de la matriz diferencia $A$ introducida más arriba. \n",
    "\n",
    "$\\mathbf{INTERPRETACIÓN}$ $\\mathbf{GEOMÉTRICA:}$ 1) $\\mathbf{u}$ es ld sii $\\mathbf{u}=\\mathbf{0}$; 2) $\\mathbf{u},\\,\\mathbf{v}$ son ld sii ambos están contenidos en una recta; 3) $\\mathbf{u},\\,\\mathbf{v},\\,\\mathbf{w}$ son ld sii los tres vectores están contenidos en un plano. Todos los vectores están en $\\mathbb{R}^3$, o sea, en el espacio."
   ]
  },
  {
   "cell_type": "markdown",
   "metadata": {},
   "source": [
    "##  ${\\color{red}{\\Rightarrow}}$ Resumen hasta ahora ${\\color{red}{\\Leftarrow}}$"
   ]
  },
  {
   "cell_type": "markdown",
   "metadata": {},
   "source": [
    "1. Las operaciones básicas son $suma$ y $multiplicación$ $por$ $escalares$.\n",
    "2. Las dos operaciones se combinan en una sola: la $combinación$ $lineal$, con la que se define independencia lineal.\n",
    "3. El $producto$ de matriz por vector $A\\mathbf{x}$ se $calcula$ haciendo productos escalares: las filas de $A$, producto escalar con $\\mathbf{x}$ . Pero debe $interpretarse$ como una combinación lineal de las columnas de $A$.\n",
    "4. Punto de vista por columnas: \n",
    "$\\hspace{10mm}$ $A\\mathbf{x}=\\mathbf{b}$ pregunta por una combinación lineal de las columnas que dé $\\mathbf{b}$.\n",
    "5. Punto de vista por filas: \n",
    "$\\hspace{10mm}$ $\\mathit{Cada}$ $\\mathit{ecuación}$ $A\\mathbf{x}=\\mathbf{b}$ (donde $\\mathbf{x},\\mathbf{b}$ tienen $n$ componentes) nos da una recta en el plano (cuando $n=2$), o un plano en el espacio (cuando $n=3$), o un $hiperplano$ (cuando $n>3$)."
   ]
  },
  {
   "cell_type": "markdown",
   "metadata": {},
   "source": [
    "## La idea de eliminar variables"
   ]
  },
  {
   "cell_type": "markdown",
   "metadata": {},
   "source": [
    "1. Para $m=n=3$, hay tres ecuaciones en $A\\mathbf{x}=\\mathbf{b}$, y tres incógnitas $x_1,x_2,x_3$.\n",
    "2. Las primeras dos ecuaciones son $a_{11} x_1 + \\cdots = b_1$, y $a_{21} x_1 + \\cdots = b_2$. Porque $A=(a_{ij})$, y $\\mathbf{b}=(b_j)$.\n",
    "3. Si multiplicamos la primera ecuación por $\\frac{a_{21}}{a_{11}}$, y la restamos a la segunda, $x_1$ queda $\\mathbf{eliminado}$.\n",
    "4. La entrada $a_{11}\\neq 0$ es el primer $pivote$, y el cociente $a_{21}/a_{11}$ es el primer $multiplicador$.\n",
    "5. Eliminamos $x_1$ del resto de las ecuacines $i$, restando $\\frac{a_{i1}}{a_{11}}$, multiplicado por la ecuación $i$.\n",
    "6. Hecho esto, quedan $n-1$ ecuaciones con las variables $x_2,\\dots,x_n$. Repitiendo, eliminamos $x_2$, y así sucesivamente.\n",
    "7. Este método de eliminación no puede utilizarse si el pivote es cero. A veces puede resolverse intercambiando dos ecuaciones."
   ]
  },
  {
   "cell_type": "markdown",
   "metadata": {},
   "source": [
    "Ejemplos, interpretación geométrica:\n",
    "$$ \\left\\{\\begin{aligned}\n",
    "        4\\, x_1-8\\,x_2&=3\\\\\n",
    "        3\\, x_1 +2\\, x_2  &=11 \n",
    "       \\end{aligned}\n",
    " \\right.,\n",
    " \\qquad\n",
    " \\left\\{\\begin{aligned}\n",
    "         x_1-2\\,x_2&=1\\\\\n",
    "        3\\, x_1 -6\\, x_2  &=11 \n",
    "       \\end{aligned}\n",
    " \\right.,\n",
    " \\qquad\n",
    " \\left\\{\\begin{aligned}\n",
    "         x_1-2\\,x_2&=1\\\\\n",
    "        3\\, x_1 -6\\, x_2  &=3 \n",
    "       \\end{aligned}\n",
    " \\right. ,\n",
    " \\qquad\n",
    " \\left\\{\\begin{aligned}\n",
    "         x_1-2\\,x_2&=1\\\\\n",
    "        3\\, x_1 -6\\, x_2  &=3 \n",
    "       \\end{aligned}\n",
    " \\right. \\cdot\n",
    "$$"
   ]
  },
  {
   "cell_type": "markdown",
   "metadata": {},
   "source": [
    "* LEER \"Three Equations in Three Unknowns\" y \"Eliminations from $A$ to $U$\" (pp 49-51) en el libro."
   ]
  },
  {
   "cell_type": "markdown",
   "metadata": {},
   "source": [
    "## ${\\color{red}{\\Rightarrow}}$ Resumen de ideas clave ${\\color{red}{\\Leftarrow}}$"
   ]
  },
  {
   "cell_type": "markdown",
   "metadata": {},
   "source": [
    "1. El proceso de $\\mathbf{eliminación}$ aplicado al sistema $A\\mathbf{x}=\\mathbf{b}$, ${produce}$ un sistema $\\mathbf{triangular}$ $\\mathbf{superior}$ $U\\mathbf{x}=\\mathbf{c}$. NOTA: $U$ viene de ${\\color{red} {\\mathbf{U}}}pper$ $triangular$.\n",
    "2. A la ecuación $i$ le restamos el producto de $\\ell_{ij}$ por la ecuación $j$, para hacer $0$ la entrada $(i,j)$.\n",
    "3. El $\\mathbf{multiplicador}$ $\\ell_{ij}:=\\frac{\\mathrm{entrada}\\,\\, \\mathrm{a}\\,\\, \\mathrm{eliminar}\\,\\, \\mathrm{en}\\,\\, \\mathrm{la}\\,\\, \\mathrm{fila}\\,\\, i}{\\mathrm{pivote}\\,\\, \\mathrm{en}\\,\\, \\mathrm{la}\\,\\, \\mathrm{fila}\\,\\, j}\\cdot$ ${\\color{red} {\\mathbf{¡OJO!}}}$ el pivote debe ser $\\neq 0$.\n",
    "4. Cuando el pivote sea cero, intercambie filas cuando haya una entrada $\\neq 0$ bajo el pivote.\n",
    "5. El sistema triangular superior $U\\mathbf{x}=\\mathbf{c}$ se resuelve sustituyendo de atrás para adelante, comenzando desde abajo.\n",
    "6. Cuando no hay forma de solucionar el problema, $A\\mathbf{x}=\\mathbf{b}$ no tiene solución, o tiene infinitas soluciones."
   ]
  },
  {
   "cell_type": "markdown",
   "metadata": {
    "collapsed": true
   },
   "source": [
    "## Eliminación usando matrices."
   ]
  },
  {
   "cell_type": "markdown",
   "metadata": {},
   "source": [
    "Consideremos el sistema $A\\mathbf{x}=\\mathbf{b}$, con $\\mathbf{x}=(x_1,x_2,x_3)$, de tres ecuaciones con tres incógnitas, donde $A$ y $\\mathbf{b}$ está dados por:"
   ]
  },
  {
   "cell_type": "code",
   "execution_count": 20,
   "metadata": {},
   "outputs": [
    {
     "data": {
      "text/plain": [
       "(array([[ 2,  4, -2],\n",
       "        [ 4,  9, -3],\n",
       "        [-2, -3,  7]]), array([[ 2],\n",
       "        [ 8],\n",
       "        [10]]))"
      ]
     },
     "execution_count": 20,
     "metadata": {},
     "output_type": "execute_result"
    }
   ],
   "source": [
    "A=np.array([[2,4,-2],[4,9,-3],[-2,-3,7]])\n",
    "b=np.array([[2],[8],[10]])\n",
    "A,b"
   ]
  },
  {
   "cell_type": "markdown",
   "metadata": {},
   "source": [
    "Para resolver el sistema usamos eliminación. Tomamos $a_{1,2}=2$ como pivote. El primer paso de eliminación es tomar la primera fila, multiplicarla por $a_{21}/a_{11}=4/2 = 2$, y restarla a la segunda. El resultado es:"
   ]
  },
  {
   "cell_type": "code",
   "execution_count": 22,
   "metadata": {},
   "outputs": [
    {
     "data": {
      "text/plain": [
       "array([[ 1,  0,  0],\n",
       "       [-2,  1,  0],\n",
       "       [ 0,  0,  1]])"
      ]
     },
     "execution_count": 22,
     "metadata": {},
     "output_type": "execute_result"
    }
   ],
   "source": [
    "E21=np.array([[1,0,0],[-2,1,0],[0,0,1]]) #matriz que realiza la operación, \"matando\" a21.\n",
    "E21"
   ]
  },
  {
   "cell_type": "code",
   "execution_count": 23,
   "metadata": {},
   "outputs": [
    {
     "data": {
      "text/plain": [
       "array([[ 2,  4, -2],\n",
       "       [ 0,  1,  1],\n",
       "       [-2, -3,  7]])"
      ]
     },
     "execution_count": 23,
     "metadata": {},
     "output_type": "execute_result"
    }
   ],
   "source": [
    "E21.dot(A) #al multiplicar por A, \"mata\" a21."
   ]
  },
  {
   "cell_type": "markdown",
   "metadata": {},
   "source": [
    "Ahora $aumentamos$ la matriz $A$ agregando la columna $\\mathbf{b}$, o sea, la matriz aumentada $aA$ es $(A\\, \\mathbf{b})$:"
   ]
  },
  {
   "cell_type": "code",
   "execution_count": 24,
   "metadata": {},
   "outputs": [
    {
     "data": {
      "text/plain": [
       "array([[ 2,  4, -2,  2],\n",
       "       [ 4,  9, -3,  8],\n",
       "       [-2, -3,  7, 10]])"
      ]
     },
     "execution_count": 24,
     "metadata": {},
     "output_type": "execute_result"
    }
   ],
   "source": [
    "aA=np.hstack([A,b])# hstack= horizontal stack = agrega columna b; también existe \"vertical\" stack = vstack().\n",
    "aA"
   ]
  },
  {
   "cell_type": "markdown",
   "metadata": {},
   "source": [
    "El primer paso de la eliminación queda:"
   ]
  },
  {
   "cell_type": "code",
   "execution_count": 25,
   "metadata": {},
   "outputs": [
    {
     "data": {
      "text/plain": [
       "array([[ 2,  4, -2,  2],\n",
       "       [ 0,  1,  1,  4],\n",
       "       [-2, -3,  7, 10]])"
      ]
     },
     "execution_count": 25,
     "metadata": {},
     "output_type": "execute_result"
    }
   ],
   "source": [
    "paso1=E21.dot(aA)\n",
    "paso1"
   ]
  },
  {
   "cell_type": "markdown",
   "metadata": {},
   "source": [
    "Luego usamos el mismo pivote para \"matar\" $a_{31}=-2$, en este cas, simplemente sumando la primera a la tercera fila:"
   ]
  },
  {
   "cell_type": "code",
   "execution_count": 26,
   "metadata": {},
   "outputs": [
    {
     "data": {
      "text/plain": [
       "array([[1, 0, 0],\n",
       "       [0, 1, 0],\n",
       "       [1, 0, 1]])"
      ]
     },
     "execution_count": 26,
     "metadata": {},
     "output_type": "execute_result"
    }
   ],
   "source": [
    "E31=np.array([[1,0,0],[0,1,0],[1,0,1]]) #matriz que realiza la operación, \"matando\" a31.\n",
    "E31"
   ]
  },
  {
   "cell_type": "code",
   "execution_count": 27,
   "metadata": {},
   "outputs": [
    {
     "data": {
      "text/plain": [
       "array([[ 2,  4, -2,  2],\n",
       "       [ 0,  1,  1,  4],\n",
       "       [ 0,  1,  5, 12]])"
      ]
     },
     "execution_count": 27,
     "metadata": {},
     "output_type": "execute_result"
    }
   ],
   "source": [
    "paso2=E31.dot(paso1)# toma paso1 y suma la primera fila a la tercera, \"matando\" a_31.\n",
    "paso2"
   ]
  },
  {
   "cell_type": "markdown",
   "metadata": {},
   "source": [
    "Habiendo matado toda entrada por debajo del pivote, debemos elegir uno nuevo. Elegimos como nuevo pivote a $a_{22}=1$, y lo usamos para matar la única entrada que tiene debajo. Para ello, restamos la segunda fila de la tercera:"
   ]
  },
  {
   "cell_type": "code",
   "execution_count": 28,
   "metadata": {},
   "outputs": [
    {
     "data": {
      "text/plain": [
       "array([[ 1,  0,  0],\n",
       "       [ 0,  1,  0],\n",
       "       [ 0, -1,  1]])"
      ]
     },
     "execution_count": 28,
     "metadata": {},
     "output_type": "execute_result"
    }
   ],
   "source": [
    "E32=np.array([[1,0,0],[0,1,0],[0,-1,1]]) #matriz que realiza la operación, \"matando\" a32.\n",
    "E32"
   ]
  },
  {
   "cell_type": "code",
   "execution_count": 29,
   "metadata": {},
   "outputs": [
    {
     "data": {
      "text/plain": [
       "array([[ 2,  4, -2,  2],\n",
       "       [ 0,  1,  1,  4],\n",
       "       [ 0,  0,  4,  8]])"
      ]
     },
     "execution_count": 29,
     "metadata": {},
     "output_type": "execute_result"
    }
   ],
   "source": [
    "paso3 = E32.dot(paso2)# toma paso2 y suma la segunda fila a la tercera, \"matando\" a_32.\n",
    "paso3"
   ]
  },
  {
   "cell_type": "markdown",
   "metadata": {},
   "source": [
    "Usamos esta matriz aumentada para reconstituir el sistema de ecuaciones, ahora con matriz triangular: \n",
    "\n",
    "$$\n",
    "\\left\\{\\begin{aligned}\n",
    "        2\\, x_1+4\\,x_2 -2\\, x_3&=2\\\\\n",
    "        0\\, x_1 +1\\, x_2 +1\\, x_3 &=4\\\\\n",
    "        0\\, x_1 +0\\, x_2 + 4\\, x_3 &= 8\n",
    "       \\end{aligned}\n",
    " \\right.,\n",
    " $$\n",
    " \n",
    " cuya solución, trabajando de abajo hacia arriba, nos da: $x_3=2$, $x_2=4-x_3=2$, y finalmente $x_1=1+x_3-2\\, x_2=-1$."
   ]
  },
  {
   "cell_type": "markdown",
   "metadata": {},
   "source": [
    "Observe que si ahora mutiplicamos las matrices usadas para eliminar paso a paso, Prod $=E_{32}\\, E_{31}\\, E_{21}$, obtenemos una matriz que realiza en un solo paso todas las eliminaciones realizadas:"
   ]
  },
  {
   "cell_type": "code",
   "execution_count": 30,
   "metadata": {},
   "outputs": [
    {
     "data": {
      "text/plain": [
       "array([[ 1,  0,  0],\n",
       "       [-2,  1,  0],\n",
       "       [ 0,  0,  1]])"
      ]
     },
     "execution_count": 30,
     "metadata": {},
     "output_type": "execute_result"
    }
   ],
   "source": [
    "E21"
   ]
  },
  {
   "cell_type": "code",
   "execution_count": 31,
   "metadata": {},
   "outputs": [
    {
     "data": {
      "text/plain": [
       "array([[1, 0, 0],\n",
       "       [0, 1, 0],\n",
       "       [1, 0, 1]])"
      ]
     },
     "execution_count": 31,
     "metadata": {},
     "output_type": "execute_result"
    }
   ],
   "source": [
    "E31"
   ]
  },
  {
   "cell_type": "code",
   "execution_count": 32,
   "metadata": {},
   "outputs": [
    {
     "data": {
      "text/plain": [
       "array([[ 1,  0,  0],\n",
       "       [ 0,  1,  0],\n",
       "       [ 0, -1,  1]])"
      ]
     },
     "execution_count": 32,
     "metadata": {},
     "output_type": "execute_result"
    }
   ],
   "source": [
    "E32"
   ]
  },
  {
   "cell_type": "code",
   "execution_count": 33,
   "metadata": {},
   "outputs": [
    {
     "data": {
      "text/plain": [
       "array([[ 1,  0,  0],\n",
       "       [-2,  1,  0],\n",
       "       [ 1,  0,  1]])"
      ]
     },
     "execution_count": 33,
     "metadata": {},
     "output_type": "execute_result"
    }
   ],
   "source": [
    "p=E31.dot(E21)\n",
    "p"
   ]
  },
  {
   "cell_type": "code",
   "execution_count": 34,
   "metadata": {},
   "outputs": [
    {
     "data": {
      "text/plain": [
       "array([[ 1,  0,  0],\n",
       "       [-2,  1,  0],\n",
       "       [ 3, -1,  1]])"
      ]
     },
     "execution_count": 34,
     "metadata": {},
     "output_type": "execute_result"
    }
   ],
   "source": [
    "pp=E32.dot(p) # pp = Prod = E32 E31 E32\n",
    "pp"
   ]
  },
  {
   "cell_type": "code",
   "execution_count": 35,
   "metadata": {},
   "outputs": [
    {
     "data": {
      "text/plain": [
       "array([[ 2,  4, -2,  2],\n",
       "       [ 4,  9, -3,  8],\n",
       "       [-2, -3,  7, 10]])"
      ]
     },
     "execution_count": 35,
     "metadata": {},
     "output_type": "execute_result"
    }
   ],
   "source": [
    "aA"
   ]
  },
  {
   "cell_type": "code",
   "execution_count": 51,
   "metadata": {},
   "outputs": [
    {
     "data": {
      "text/plain": [
       "array([[ 2,  4, -2,  2],\n",
       "       [ 0,  1,  1,  4],\n",
       "       [ 0,  0,  4,  8]])"
      ]
     },
     "execution_count": 51,
     "metadata": {},
     "output_type": "execute_result"
    }
   ],
   "source": [
    "pp.dot(aA) # esta matriz hace todas la eliminaciones a la vez, haciendo A triangular:"
   ]
  },
  {
   "cell_type": "markdown",
   "metadata": {},
   "source": [
    "### ${\\color{red}{\\Rightarrow}}$ También: ${\\color{red}{\\Leftarrow}}$"
   ]
  },
  {
   "cell_type": "code",
   "execution_count": 55,
   "metadata": {
    "collapsed": true
   },
   "outputs": [],
   "source": [
    "e21=np.matrix(E21) #array(E21) transformado en matris\n",
    "e31=np.matrix(E31)\n",
    "e32=np.matrix(E32)"
   ]
  },
  {
   "cell_type": "code",
   "execution_count": 54,
   "metadata": {},
   "outputs": [
    {
     "data": {
      "text/plain": [
       "matrix([[ 1,  0,  0],\n",
       "        [-2,  1,  0],\n",
       "        [ 3, -1,  1]])"
      ]
     },
     "execution_count": 54,
     "metadata": {},
     "output_type": "execute_result"
    }
   ],
   "source": [
    "e32*e31*e21 #es decir, pp = e32*e31*e21, que ya tiene incluida asociatividad"
   ]
  },
  {
   "cell_type": "markdown",
   "metadata": {},
   "source": [
    "## Las matrices $P_{ij}$ sirven para intercambiar filas."
   ]
  },
  {
   "cell_type": "markdown",
   "metadata": {},
   "source": [
    "Para llevar adelante el proceso de eliminación es necesario, a veces, intercambiar filas para obtener un pivote $\\neq 0$. Esta operación se hace con las matrices $de$ $permutación$ $P_{ij}$, cuya función es $intercambiar$ las filas $i$ y la $j$. Por definición, $P_{ij}$ es la matriz que se obtiene a partir de la identidad $I$, intercambiando las filas $i$ y la $j$ (¿Qué puede decir de $P_{ji}$?). Vemos un ejemplo en Python:"
   ]
  },
  {
   "cell_type": "code",
   "execution_count": 37,
   "metadata": {},
   "outputs": [
    {
     "data": {
      "text/plain": [
       "array([[2, 4, 1],\n",
       "       [0, 0, 1],\n",
       "       [0, 6, 5]])"
      ]
     },
     "execution_count": 37,
     "metadata": {},
     "output_type": "execute_result"
    }
   ],
   "source": [
    "B=np.array([[2,4,1],[0,0,1],[0,6,5]]) #al buscar un pivote para la 2da columna nos encontramos con 0\n",
    "B"
   ]
  },
  {
   "cell_type": "code",
   "execution_count": 38,
   "metadata": {},
   "outputs": [
    {
     "data": {
      "text/plain": [
       "array([[1, 0, 0],\n",
       "       [0, 0, 1],\n",
       "       [0, 1, 0]])"
      ]
     },
     "execution_count": 38,
     "metadata": {},
     "output_type": "execute_result"
    }
   ],
   "source": [
    "P23=np.array([[1,0,0],[0,0,1],[0,1,0]]) # por definición\n",
    "P23"
   ]
  },
  {
   "cell_type": "code",
   "execution_count": 39,
   "metadata": {},
   "outputs": [
    {
     "data": {
      "text/plain": [
       "array([[2, 4, 1],\n",
       "       [0, 6, 5],\n",
       "       [0, 0, 1]])"
      ]
     },
     "execution_count": 39,
     "metadata": {},
     "output_type": "execute_result"
    }
   ],
   "source": [
    "P23.dot(B) # veamos el efecto de multiplicar por P23"
   ]
  },
  {
   "cell_type": "markdown",
   "metadata": {
    "collapsed": true
   },
   "source": [
    "## Matriz inversa."
   ]
  },
  {
   "cell_type": "markdown",
   "metadata": {},
   "source": [
    "Todas las matrices son cuadradas, digamos de tamaño $n\\times n$. \n",
    "\n",
    "DEF.: una matriz $A$ es $invertible$ si existe una matriz $A^{-1}$ que es su \"inversa\", es decir:\n",
    "\n",
    "$$\n",
    "A\\, A^{-1} = I = A^{-1} \\, A\n",
    "$$\n",
    "\n",
    "donde $I$ es la matriz $identidad$ de tamaño $n\\times n$, es decir, la matriz que tiene unos en la diagonal, y ceros en toda posición fuera de la diagonal. Notemos que la inversa de $A$, si existe, es $única$. En realidad, todavía más es cierto: si $BA=I$ (o sea, si $B$ es una inversa $a$ $izquierda$ de $A$), y $AC=I$ (o sea, si $C$ es una inversa $a$ $derecha$ de $A$), tenemos:\n",
    "\n",
    "$$\n",
    "B=BI=B(AC)=(BA)C=IC=C.\n",
    "$$\n",
    "\n",
    "Es decir, $si$ $A$ ${\\textit{tiene una inversa a izquierda y una a derecha, ambas coinciden}}$.\n",
    "\n",
    "Ejemplo de inversa en Python,"
   ]
  },
  {
   "cell_type": "code",
   "execution_count": 40,
   "metadata": {},
   "outputs": [
    {
     "data": {
      "text/plain": [
       "array([[ 1,  0,  0],\n",
       "       [-5,  1,  0],\n",
       "       [22, -4,  1]])"
      ]
     },
     "execution_count": 40,
     "metadata": {},
     "output_type": "execute_result"
    }
   ],
   "source": [
    "A=np.array([[1,0,0],[-5,1,0],[22,-4,1]])\n",
    "A"
   ]
  },
  {
   "cell_type": "code",
   "execution_count": 41,
   "metadata": {},
   "outputs": [
    {
     "data": {
      "text/plain": [
       "array([[ 1.,  0.,  0.],\n",
       "       [ 5.,  1.,  0.],\n",
       "       [-2.,  4.,  1.]])"
      ]
     },
     "execution_count": 41,
     "metadata": {},
     "output_type": "execute_result"
    }
   ],
   "source": [
    "invA=np.linalg.inv(A)\n",
    "invA"
   ]
  },
  {
   "cell_type": "code",
   "execution_count": 42,
   "metadata": {},
   "outputs": [
    {
     "data": {
      "text/plain": [
       "array([[ 1.,  0.,  0.],\n",
       "       [ 0.,  1.,  0.],\n",
       "       [ 0.,  0.,  1.]])"
      ]
     },
     "execution_count": 42,
     "metadata": {},
     "output_type": "execute_result"
    }
   ],
   "source": [
    "invA.dot(A)"
   ]
  },
  {
   "cell_type": "code",
   "execution_count": 43,
   "metadata": {},
   "outputs": [
    {
     "data": {
      "text/plain": [
       "array([[  1.00000000e+00,   0.00000000e+00,   0.00000000e+00],\n",
       "       [  0.00000000e+00,   1.00000000e+00,   0.00000000e+00],\n",
       "       [  1.77635684e-15,   0.00000000e+00,   1.00000000e+00]])"
      ]
     },
     "execution_count": 43,
     "metadata": {},
     "output_type": "execute_result"
    }
   ],
   "source": [
    "A.dot(invA)"
   ]
  },
  {
   "cell_type": "markdown",
   "metadata": {},
   "source": [
    "### ${\\color{red}{\\Rightarrow}}{\\color{red}{\\Rightarrow}}$ ¡¡¿¿     Y ésto      ??!! ${\\color{red}{\\Leftarrow}} {\\color{red}{\\Leftarrow}}$"
   ]
  },
  {
   "cell_type": "code",
   "execution_count": 50,
   "metadata": {},
   "outputs": [
    {
     "data": {
      "text/plain": [
       "array([[ 1.,  0.,  0.],\n",
       "       [ 5.,  1.,  0.],\n",
       "       [-2.,  4.,  1.]])"
      ]
     },
     "execution_count": 50,
     "metadata": {},
     "output_type": "execute_result"
    }
   ],
   "source": [
    "AA=np.floor(invA) #usando np.ceil(), la entrada (3,1) pasaría a ser -1\n",
    "AA"
   ]
  },
  {
   "cell_type": "code",
   "execution_count": 46,
   "metadata": {},
   "outputs": [
    {
     "data": {
      "text/plain": [
       "array([[ 1.,  0.,  0.],\n",
       "       [ 0.,  1.,  0.],\n",
       "       [ 0.,  0.,  1.]])"
      ]
     },
     "execution_count": 46,
     "metadata": {},
     "output_type": "execute_result"
    }
   ],
   "source": [
    "AA.dot(A)"
   ]
  },
  {
   "cell_type": "markdown",
   "metadata": {},
   "source": [
    "### La inversa del producto."
   ]
  },
  {
   "cell_type": "markdown",
   "metadata": {},
   "source": [
    "Si $A$ y $B$ son invertibles (o sea, $A^{-1}$ y $B^{-1}$ existen), entonces $(AB)^{-1}=B^{-1}A^{-1}$. En efecto,\n",
    "\n",
    "$$\n",
    "(AB)\\, (B^{-1}A^{-1}) = ((AB)\\, B^{-1})\\, A^{-1} = (A\\, (B\\, B^{-1}))\\, A^{-1} = (A\\, I)\\, A^{-1} = A\\, A^{-1} = I.\n",
    "$$\n",
    "\n",
    "Un cálculo similar demuestra que también $(B^{-1}A^{-1})\\, (AB)=I$. Esto prueba la afirmación, dado que la inversa es única. \n",
    "\n",
    "Para tres matrices, $(ABC)^{-1} = C^{-1} B^{-1} A^{-1}$."
   ]
  },
  {
   "cell_type": "markdown",
   "metadata": {},
   "source": [
    "### Cálculo de la inversa usando eliminación de Gauss-Jordan."
   ]
  },
  {
   "cell_type": "code",
   "execution_count": 47,
   "metadata": {},
   "outputs": [
    {
     "data": {
      "text/plain": [
       "array([[ 2, -1,  0],\n",
       "       [-1,  2, -1],\n",
       "       [ 0, -1,  2]])"
      ]
     },
     "execution_count": 47,
     "metadata": {},
     "output_type": "execute_result"
    }
   ],
   "source": [
    "B=np.array([[2,-1,0],[-1,2,-1],[0,-1,2]])\n",
    "B"
   ]
  },
  {
   "cell_type": "code",
   "execution_count": 48,
   "metadata": {},
   "outputs": [
    {
     "data": {
      "text/plain": [
       "array([[1, 0, 0],\n",
       "       [0, 1, 0],\n",
       "       [0, 0, 1]])"
      ]
     },
     "execution_count": 48,
     "metadata": {},
     "output_type": "execute_result"
    }
   ],
   "source": [
    "I=np.array([[1,0,0],[0,1,0],[0,0,1]])\n",
    "I"
   ]
  },
  {
   "cell_type": "code",
   "execution_count": 49,
   "metadata": {},
   "outputs": [
    {
     "data": {
      "text/plain": [
       "array([[ 2, -1,  0,  1,  0,  0],\n",
       "       [-1,  2, -1,  0,  1,  0],\n",
       "       [ 0, -1,  2,  0,  0,  1]])"
      ]
     },
     "execution_count": 49,
     "metadata": {},
     "output_type": "execute_result"
    }
   ],
   "source": [
    "bB=np.hstack([B,I]) #bB es la matriz B, \"aumentada\" por la identidad\n",
    "bB"
   ]
  },
  {
   "cell_type": "markdown",
   "metadata": {},
   "source": [
    "Tenemos $bB=(\\, B\\,\\, | \\,\\, I\\, )$. Supongamos que $B$ es invertible. Entonces: \n",
    "\n",
    "$$\n",
    "B^{-1} \\, bB = B^{-1} \\, (\\, B\\,\\, | \\,\\, I\\, ) =\\, (\\, B^{-1} B \\,\\, | \\,\\, B^{-1} \\, I \\,) = (\\, I \\,\\, | \\,\\, B^{-1} \\,).\n",
    "$$\n",
    "\n",
    "Por lo tanto:"
   ]
  },
  {
   "cell_type": "markdown",
   "metadata": {},
   "source": [
    "### ${\\color{red}{\\Rightarrow}}$ Use eliminación para transformar  la primera mitad de $bB$ en la identidad. Entonces la segunda mitad será   $\\mathit{la}$ $\\mathit{inversa}$."
   ]
  },
  {
   "cell_type": "markdown",
   "metadata": {},
   "source": [
    "## ¿Cuándo es una matriz invertible?"
   ]
  },
  {
   "cell_type": "markdown",
   "metadata": {},
   "source": [
    "Sea $A$ una matriz cuadrada, de orden $n$. ¿Cuándo es $A$ invertible? Por supuesto, no todas lo son. \n",
    "### Nota 1.\n",
    "La inversa existe sii el proceso de eliminación produce $n$ pivotes (posiblemente intercambiando filas). Observe que la eliminación resuelve el problema $A\\,\\mathbf{x} = \\mathbf{b},$ $sin$ jamás calcular $A^{-1}$.\n",
    "### Nota 2.\n",
    "Cuando $A$ es invertible, el sistema $A\\,\\mathbf{x} = \\mathbf{b}$, tiene una, y solo una, solución, dada por: $\\mathbf{x} = A^{-1}\\, \\mathbf{b}$.\n",
    "\n",
    "### Nota 3.\n",
    "Supongamos que existe un vector no-nulo $\\mathbf{x}$, tal que $A\\,\\mathbf{x} = \\mathbf{0}$. Entonces, obviamente, $A$ no puede tener inversa. En otras palabras, si $A$ es invertible, la ecuación $A\\,\\mathbf{x} = \\mathbf{0}$, tiene a  $\\mathbf{0}$ como única solución: $A^{-1} \\, A\\,\\mathbf{x} = A^{-1} \\, \\mathbf{0} = \\mathbf{0}$.\n",
    "### Nota 4. \n",
    "Una matriz $2\\times 2$ es invertible sii $ad-cb \\neq 0$. La inversa está dada por la fórmula:\n",
    "$$\n",
    "\\begin{pmatrix}\n",
    "  a & b \\\\\n",
    "  c & d  \n",
    " \\end{pmatrix} ^{-1} \n",
    " \\quad\n",
    " = \n",
    " \\quad\n",
    " \\frac{1}{ad-cb} \\,\n",
    " \\quad\n",
    " \\begin{pmatrix}\n",
    "  d & -b \\\\\n",
    "  -c & a  \n",
    " \\end{pmatrix}. \n",
    "$$\n",
    "\n",
    "¡COMPRUÉBELO!\n",
    "El número $ad-cb$ se llama $determinante$ de $A$. Veremos más adelante que toda matriz cuadrada es invertible sii su determinante es $\\neq 0$.\n",
    "### Nota 5.\n",
    "Toda matriz diagonal es invertible sii toda entrada de la diagonal es $\\neq 0$.\n",
    "$$\n",
    "\\mathrm{Si}\n",
    "\\qquad\n",
    "A=\n",
    "\\begin{pmatrix}\n",
    "d_1 & & \\\\\n",
    "    & \\ddots &  \\\\\n",
    "    &        & d_n\n",
    "\\end{pmatrix},\n",
    "\\qquad\n",
    "\\mathrm{entonces}\n",
    "\\qquad\n",
    "A^{-1} =\n",
    "\\begin{pmatrix}\n",
    "\\frac{1}{d_1} & & \\\\\n",
    "    & \\ddots &  \\\\\n",
    "    &        & \\frac{1}{d_n}\n",
    "\\end{pmatrix}.\n",
    "$$"
   ]
  },
  {
   "cell_type": "markdown",
   "metadata": {},
   "source": [
    "## Matriz singular vs. matriz invertible.\n",
    "\n",
    "Demostramos que una matriz $B$ es invertible sii tiene $\\mathbf{tiene}$ $n$ $\\mathbf{pivotes}$. \n",
    "\n",
    "($\\Leftarrow$) Como tiene $n$ pivotes, por eliminación podemos resolver las ecuaciones $B\\, \\mathbf{x_i}=\\mathbf{e_i} = (0,\\dots,\\overbrace{1}^{i},\\dots,0)$, para $i=1,\\dots,n$. La matriz que tiene por columnas las $\\mathbf{x_i}$, nos da una matriz $N$ que es inversa a derecha: $B\\, N=I$.\n",
    "\n",
    "Por otra parte, el proceso de eliminación aplicado a $bB$, que termina en la matriz $(I\\, | * )$, puede expresarse como una sucesión de multipliaciones por matrices de tipos $E$, $P$ y $D^{-1}$:\n",
    "$$\n",
    "C\\, B= (D^{-1} \\cdots E \\cdots P \\cdots E)\\, B = \\, I,\n",
    "$$\n",
    "donde $D$ divide por los pivotes, las matrices $E$ matan toda entrada por encima y por debajo de un pivote, y las $P$ intercambian filas, en caso de ser necesario. Obtenemos así una matriz $C$ que es una inversa a izquierda de $B$ (observemos también que $C=*$, la \"segunda mitad\" de $(I\\, | * )$). En conclusión, $B$ tiene una inversa a izquierda y otra a derecha, y sabemos que entonces ambas matrices coinciden; en otras palabras, si $B$ tiene $n$ pivotes, entonces $B$ es invertible, y su inversa es $C=N=B^{-1}$.\n",
    "\n",
    "($\\Rightarrow$) Probamos ahora que si $B\\, C = I$, entonces $B$ debe necesariamente tener $n$ pivotes. Razonamos en la dirección contraria:\n",
    "\n",
    "1. Si $B$ no tuviera $n$ pivotes, entonces al eliminar obtendremos una fila nula.\n",
    "2. La eliminación es ejecutada por una matriz invertible $M$. O sea, una fila de $MB$ es cero.\n",
    "3. Si $BC=I$, entonces $MBC=MI=M$. O sea, una fila cero en $MB$ nos da una fila cero en la misma $M$.\n",
    "4. PERO, ¡una matriz invertible $M$ $no$ puede tener una fila nula! O sea, si $BC=I$, entonces $B$ tiene $n$ pivotes. \n",
    "\n",
    "Estos cuatro pasos nos llevan a una conclusión corta y contundente:  $C$ es $B^{-1}$. O sea, hemos demostrado:\n",
    "### Si $BC=I$, entonces $CB=I$, y $C=B^{-1}$.\n",
    "Eliminación da un test completo de la invertibilidad de una matriz cuadrada:\n",
    "### $B^{-1}$ existe (y se la obtiene por eliminación de Gauss-Jordan) exactamente cuando $B$ tiene $n$ pivotes.\n",
    "\n",
    "Como ejemplo, una matriz triangular es invertible sii ningún elemento de la diagonal es cero."
   ]
  },
  {
   "cell_type": "markdown",
   "metadata": {},
   "source": [
    "## Cómo reconocer una matriz invertible.\n",
    "\n",
    "En general es difícil saber si una matriz es invertible. Pero en algunos casos es fácil. Damos un ejemplo.\n",
    "###  ${\\color{red}{\\Rightarrow}}$Las matrices con diagonal dominante son invertibles \n",
    "La diagonal de una matriz es $dominante$ si cada $a_{ii}$ es mayor que la suma del resto de los elementos de la fila $i$. Expresada con rigor, esta condición dice:\n",
    "$$\n",
    "|\\,a_{ii}|> \\sum_{j\\neq i} |\\,a_{ij}|\n",
    "$$\n",
    "Por ejemplo, de las matrices:\n",
    "\n",
    "$$\n",
    "A=\n",
    "\\begin{pmatrix}\n",
    "  3 & 1 & 1 \\\\\n",
    "  1 & 3   & 1\\\\\n",
    "  1 & 1 & 3\n",
    "\\end{pmatrix},\n",
    "\\qquad\n",
    "B=\n",
    "\\begin{pmatrix}\n",
    "2 & 1 & 1 \\\\\n",
    "  1 & 2   & 1\\\\\n",
    "  1 & 1 & 3\n",
    "\\end{pmatrix},\n",
    "\\qquad\n",
    "C=\n",
    "\\begin{pmatrix}\n",
    "1 & 1 & 1 \\\\\n",
    "  1 & 1   & 1\\\\\n",
    "  1 & 1 & 3\n",
    "\\end{pmatrix}.\n",
    "$$\n",
    "\n",
    "$A$ tiene diagonal dominante, $B$ no (pero sí es invertible), y $C$ es singular.\n",
    "\n",
    "$\\mathbf{Demostración}$. Probamos que si $A$ tiene diagonal dominante, es invertible. Supongamos, razonando por el absurdo, que $\\mathbf{x}\\neq \\mathbf{0}$, pero que $A\\, \\mathbf{x}= \\mathbf{0}$. Sea $x_i$ la mayor componente de $\\mathbf{x}$. Entonces la fila $i$, sería:\n",
    "$$\n",
    "a_{i1} x_1+ a_{i2}x_2+ \\cdots + a_{in}x_n=0\n",
    "$$\n",
    "Pero esto es imposible cuando la diagonal domina! En efecto:\n",
    "\n",
    "$$\n",
    "\\mathrm{Todo} \\,\\, |\\,x_j| \\leq |\\,x_i|, \\,\\,\\mathrm{y}\\,\\, \\mathrm{entonces}\\,\\, \\sum_{j\\neq i} |\\,a_{ij}x_j|\\leq \n",
    "\\sum_{j\\neq i} |\\,a_{ij}|\\,|x_j| <  |\\,a_{ij}|\\,|\\,x_i|\n",
    "$$"
   ]
  },
  {
   "cell_type": "markdown",
   "metadata": {},
   "source": [
    "## Algunas matrices que es bueno conocer por su nombre."
   ]
  },
  {
   "cell_type": "markdown",
   "metadata": {},
   "source": [
    "Estas matrices \"con nombre y apellido\" pueden llamarse con $\\mathbf{sla}$, es decir, con $\\mathbf{scipy.linalg}$ (ver https://docs.scipy.org/doc/scipy/reference/linalg.html)"
   ]
  },
  {
   "cell_type": "code",
   "execution_count": 86,
   "metadata": {},
   "outputs": [
    {
     "data": {
      "text/plain": [
       "array([[ 1.        ,  0.5       ],\n",
       "       [ 0.5       ,  0.33333333]])"
      ]
     },
     "execution_count": 86,
     "metadata": {},
     "output_type": "execute_result"
    }
   ],
   "source": [
    "h2=sla.hilbert(2) #matrices de Hilbert de orden n\n",
    "h3=sla.hilbert(3)\n",
    "h4=sla.hilbert(4)\n",
    "h2 "
   ]
  },
  {
   "cell_type": "code",
   "execution_count": 87,
   "metadata": {},
   "outputs": [
    {
     "data": {
      "text/plain": [
       "array([[ 1.        ,  0.5       ,  0.33333333],\n",
       "       [ 0.5       ,  0.33333333,  0.25      ],\n",
       "       [ 0.33333333,  0.25      ,  0.2       ]])"
      ]
     },
     "execution_count": 87,
     "metadata": {},
     "output_type": "execute_result"
    }
   ],
   "source": [
    " h3"
   ]
  },
  {
   "cell_type": "code",
   "execution_count": 88,
   "metadata": {},
   "outputs": [
    {
     "data": {
      "text/plain": [
       "array([[ 1.        ,  0.5       ,  0.33333333,  0.25      ],\n",
       "       [ 0.5       ,  0.33333333,  0.25      ,  0.2       ],\n",
       "       [ 0.33333333,  0.25      ,  0.2       ,  0.16666667],\n",
       "       [ 0.25      ,  0.2       ,  0.16666667,  0.14285714]])"
      ]
     },
     "execution_count": 88,
     "metadata": {},
     "output_type": "execute_result"
    }
   ],
   "source": [
    "h4"
   ]
  },
  {
   "cell_type": "code",
   "execution_count": 67,
   "metadata": {},
   "outputs": [
    {
     "data": {
      "text/plain": [
       "array([[  4.,  -6.],\n",
       "       [ -6.,  12.]])"
      ]
     },
     "execution_count": 67,
     "metadata": {},
     "output_type": "execute_result"
    }
   ],
   "source": [
    "sla.inv(h2)#inversa de h2"
   ]
  },
  {
   "cell_type": "code",
   "execution_count": 68,
   "metadata": {},
   "outputs": [
    {
     "data": {
      "text/plain": [
       "array([[   9.,  -36.,   30.],\n",
       "       [ -36.,  192., -180.],\n",
       "       [  30., -180.,  180.]])"
      ]
     },
     "execution_count": 68,
     "metadata": {},
     "output_type": "execute_result"
    }
   ],
   "source": [
    "sla.inv(h3) #inversa de h3"
   ]
  },
  {
   "cell_type": "code",
   "execution_count": 70,
   "metadata": {},
   "outputs": [
    {
     "data": {
      "text/plain": [
       "array([[   16.,  -120.,   240.,  -140.],\n",
       "       [ -120.,  1200., -2700.,  1680.],\n",
       "       [  240., -2700.,  6480., -4200.],\n",
       "       [ -140.,  1680., -4200.,  2800.]])"
      ]
     },
     "execution_count": 70,
     "metadata": {},
     "output_type": "execute_result"
    }
   ],
   "source": [
    "sla.inv(h4)  #inversa de h4 - OBS!! observe cómo crecen las entradas de la inversa al crecer n."
   ]
  },
  {
   "cell_type": "code",
   "execution_count": 89,
   "metadata": {},
   "outputs": [
    {
     "data": {
      "text/plain": [
       "array([[ 1,  1],\n",
       "       [ 1, -1]])"
      ]
     },
     "execution_count": 89,
     "metadata": {},
     "output_type": "execute_result"
    }
   ],
   "source": [
    "ha2=sla.hadamard(2) #matrices de Hadamard. OJO! n debe ser una potencia de 2.\n",
    "ha4=sla.hadamard(4)\n",
    "ha8=sla.hadamard(8)\n",
    "ha2"
   ]
  },
  {
   "cell_type": "code",
   "execution_count": 90,
   "metadata": {},
   "outputs": [
    {
     "data": {
      "text/plain": [
       "array([[ 1,  1,  1,  1],\n",
       "       [ 1, -1,  1, -1],\n",
       "       [ 1,  1, -1, -1],\n",
       "       [ 1, -1, -1,  1]])"
      ]
     },
     "execution_count": 90,
     "metadata": {},
     "output_type": "execute_result"
    }
   ],
   "source": [
    "ha4"
   ]
  },
  {
   "cell_type": "code",
   "execution_count": 93,
   "metadata": {},
   "outputs": [
    {
     "data": {
      "text/plain": [
       "array([[ 1,  1,  1,  1,  1,  1,  1,  1],\n",
       "       [ 1, -1,  1, -1,  1, -1,  1, -1],\n",
       "       [ 1,  1, -1, -1,  1,  1, -1, -1],\n",
       "       [ 1, -1, -1,  1,  1, -1, -1,  1],\n",
       "       [ 1,  1,  1,  1, -1, -1, -1, -1],\n",
       "       [ 1, -1,  1, -1, -1,  1, -1,  1],\n",
       "       [ 1,  1, -1, -1, -1, -1,  1,  1],\n",
       "       [ 1, -1, -1,  1, -1,  1,  1, -1]])"
      ]
     },
     "execution_count": 93,
     "metadata": {},
     "output_type": "execute_result"
    }
   ],
   "source": [
    "ha8"
   ]
  },
  {
   "cell_type": "code",
   "execution_count": 72,
   "metadata": {},
   "outputs": [
    {
     "data": {
      "text/plain": [
       "array([[ 0.5,  0.5],\n",
       "       [ 0.5, -0.5]])"
      ]
     },
     "execution_count": 72,
     "metadata": {},
     "output_type": "execute_result"
    }
   ],
   "source": [
    "sla.inv(ha2)"
   ]
  },
  {
   "cell_type": "code",
   "execution_count": 73,
   "metadata": {},
   "outputs": [
    {
     "data": {
      "text/plain": [
       "array([[ 0.25,  0.25,  0.25,  0.25],\n",
       "       [ 0.25, -0.25,  0.25, -0.25],\n",
       "       [ 0.25,  0.25, -0.25, -0.25],\n",
       "       [ 0.25, -0.25, -0.25,  0.25]])"
      ]
     },
     "execution_count": 73,
     "metadata": {},
     "output_type": "execute_result"
    }
   ],
   "source": [
    "sla.inv(ha4)"
   ]
  },
  {
   "cell_type": "code",
   "execution_count": 74,
   "metadata": {},
   "outputs": [
    {
     "data": {
      "text/plain": [
       "array([[ 0.125,  0.125,  0.125,  0.125,  0.125,  0.125,  0.125,  0.125],\n",
       "       [ 0.125, -0.125,  0.125, -0.125,  0.125, -0.125,  0.125, -0.125],\n",
       "       [ 0.125,  0.125, -0.125, -0.125,  0.125,  0.125, -0.125, -0.125],\n",
       "       [ 0.125, -0.125, -0.125,  0.125,  0.125, -0.125, -0.125,  0.125],\n",
       "       [ 0.125,  0.125,  0.125,  0.125, -0.125, -0.125, -0.125, -0.125],\n",
       "       [ 0.125, -0.125,  0.125, -0.125, -0.125,  0.125, -0.125,  0.125],\n",
       "       [ 0.125,  0.125, -0.125, -0.125, -0.125, -0.125,  0.125,  0.125],\n",
       "       [ 0.125, -0.125, -0.125,  0.125, -0.125,  0.125,  0.125, -0.125]])"
      ]
     },
     "execution_count": 74,
     "metadata": {},
     "output_type": "execute_result"
    }
   ],
   "source": [
    "sla.inv(ha8)"
   ]
  },
  {
   "cell_type": "code",
   "execution_count": 75,
   "metadata": {},
   "outputs": [
    {
     "data": {
      "text/plain": [
       "array([[  1, 100,   3],\n",
       "       [  3,   1, 100],\n",
       "       [100,   3,   1]])"
      ]
     },
     "execution_count": 75,
     "metadata": {},
     "output_type": "execute_result"
    }
   ],
   "source": [
    "c=sla.circulant([[1,3,100]]) #matriz circulante: 1ra. col es dada; las otras son permutaciones \"circulares\".\n",
    "c"
   ]
  },
  {
   "cell_type": "code",
   "execution_count": 76,
   "metadata": {},
   "outputs": [
    {
     "data": {
      "text/plain": [
       "array([[ -2.99260956e-04,  -9.10794213e-05,   1.00057250e-02],\n",
       "       [  1.00057250e-02,  -2.99260956e-04,  -9.10794213e-05],\n",
       "       [ -9.10794213e-05,   1.00057250e-02,  -2.99260956e-04]])"
      ]
     },
     "execution_count": 76,
     "metadata": {},
     "output_type": "execute_result"
    }
   ],
   "source": [
    "sla.inv(c) #observar el tamaño de las entradas."
   ]
  },
  {
   "cell_type": "code",
   "execution_count": 77,
   "metadata": {},
   "outputs": [
    {
     "data": {
      "text/plain": [
       "array([[ 1,  1,  1,  1],\n",
       "       [ 1,  2,  3,  4],\n",
       "       [ 1,  3,  6, 10],\n",
       "       [ 1,  4, 10, 20]], dtype=uint64)"
      ]
     },
     "execution_count": 77,
     "metadata": {},
     "output_type": "execute_result"
    }
   ],
   "source": [
    "p4=sla.pascal(4) #matriz de Pascal (coeficientes binomiales)\n",
    "p4"
   ]
  },
  {
   "cell_type": "code",
   "execution_count": 78,
   "metadata": {},
   "outputs": [
    {
     "data": {
      "text/plain": [
       "array([[  4.,  -6.,   4.,  -1.],\n",
       "       [ -6.,  14., -11.,   3.],\n",
       "       [  4., -11.,  10.,  -3.],\n",
       "       [ -1.,   3.,  -3.,   1.]])"
      ]
     },
     "execution_count": 78,
     "metadata": {},
     "output_type": "execute_result"
    }
   ],
   "source": [
    "sla.inv(p4)"
   ]
  },
  {
   "cell_type": "code",
   "execution_count": 79,
   "metadata": {},
   "outputs": [
    {
     "data": {
      "text/plain": [
       "array([[  1,   5,  10,  50, 100],\n",
       "       [  5,   1,   5,  10,  50],\n",
       "       [ 10,   5,   1,   5,  10],\n",
       "       [ 50,  10,   5,   1,   5],\n",
       "       [100,  50,  10,   5,   1]])"
      ]
     },
     "execution_count": 79,
     "metadata": {},
     "output_type": "execute_result"
    }
   ],
   "source": [
    "t=sla.toeplitz([[1,5,10,50,100]]) #matriz de Toeplitz. Observe la simetría\n",
    "t"
   ]
  },
  {
   "cell_type": "code",
   "execution_count": 81,
   "metadata": {},
   "outputs": [
    {
     "data": {
      "text/plain": [
       "array([[-0.00665266, -0.00758637,  0.08986928,  0.03209617, -0.01458917],\n",
       "       [-0.00758637,  0.01669001,  0.0245098 , -0.07061158,  0.03209617],\n",
       "       [ 0.08986928,  0.0245098 , -1.04248366,  0.0245098 ,  0.08986928],\n",
       "       [ 0.03209617, -0.07061158,  0.0245098 ,  0.01669001, -0.00758637],\n",
       "       [-0.01458917,  0.03209617,  0.08986928, -0.00758637, -0.00665266]])"
      ]
     },
     "execution_count": 81,
     "metadata": {},
     "output_type": "execute_result"
    }
   ],
   "source": [
    "sla.inv(t) # observe el tamaño de las entradas."
   ]
  },
  {
   "cell_type": "code",
   "execution_count": 82,
   "metadata": {},
   "outputs": [
    {
     "data": {
      "text/plain": [
       "array([[ 1.,  0.,  0.,  0.],\n",
       "       [ 0.,  1.,  0.,  0.],\n",
       "       [ 0.,  0.,  1.,  0.],\n",
       "       [ 0.,  0.,  0.,  1.]])"
      ]
     },
     "execution_count": 82,
     "metadata": {},
     "output_type": "execute_result"
    }
   ],
   "source": [
    "i4=np.identity(4)## la identidad es algo complicada en scipy; usamos numpy entonces.\n",
    "i4"
   ]
  },
  {
   "cell_type": "code",
   "execution_count": 83,
   "metadata": {},
   "outputs": [
    {
     "data": {
      "text/plain": [
       "array([[ True,  True,  True,  True],\n",
       "       [ True,  True,  True,  True],\n",
       "       [ True,  True,  True,  True],\n",
       "       [ True,  True,  True,  True]], dtype=bool)"
      ]
     },
     "execution_count": 83,
     "metadata": {},
     "output_type": "execute_result"
    }
   ],
   "source": [
    "sla.inv(i4)==i4 #preguntamos si i4 es su propia inversa"
   ]
  },
  {
   "cell_type": "markdown",
   "metadata": {
    "collapsed": true
   },
   "source": [
    "## Ejercicios"
   ]
  },
  {
   "cell_type": "markdown",
   "metadata": {},
   "source": [
    "* Los temas cubiertos en esta primera clase comprenden las siguientes secciones: 1.1, 1.2, 1.3, 2.1, 2.2, 2.3, 2.4 y 2.5, y las páginas 1-96.\n",
    "\n",
    "* En estas secciones, el libro contiene 259 ejercicios. De ellos, hay 34 que son para desafiar al estudiante (\"challenge problems\"), y además, un total de 22 ejercicios resueltos en el texto (\"worked examples\").\n",
    "\n",
    "* ¿Cuántos \"hay\" que resolver? Dependerá de la ambición de cada uno. El mínimo es estudiar ${\\color{red}{\\mathrm{cuidadosamente}}}$ cada uno de los 22 ejercicios resueltos.\n",
    "\n",
    "* A continuación les sugiero algunos ejercicios que pueden resolver. Son unos 116 ejercicios, que hacen cerca del 45% del total; o sea, son muchos!"
   ]
  },
  {
   "cell_type": "markdown",
   "metadata": {},
   "source": [
    "§ $\\mathbf{1.1}$ $\\qquad$ \n",
    "6, 7, 12, 13, 14, 18, 22, 26, 27, 28, 29."
   ]
  },
  {
   "cell_type": "markdown",
   "metadata": {},
   "source": [
    "§ $\\mathbf{1.2}$ $\\qquad$ 1-3, 6, 8, 16, 20, 29, 31-4."
   ]
  },
  {
   "cell_type": "markdown",
   "metadata": {},
   "source": [
    "§ $\\mathbf{1.3}$ $\\qquad$ 2, 5-9, 12, 13, 14."
   ]
  },
  {
   "cell_type": "markdown",
   "metadata": {},
   "source": [
    "§ $\\mathbf{2.1}$ $\\qquad$ 1, 4, 8, 9, 10, 13, 14, 16, 17, 21, 28, 29, 30, 32."
   ]
  },
  {
   "cell_type": "markdown",
   "metadata": {},
   "source": [
    "§ $\\mathbf{2.2}$ $\\qquad$ 4-7, 11, 18, 20, 24, 30, 32."
   ]
  },
  {
   "cell_type": "markdown",
   "metadata": {},
   "source": [
    "§ $\\mathbf{2.3}$ $\\qquad$ 3, 4, 7-9, 12-14, 16-19, 27, 29, 31."
   ]
  },
  {
   "cell_type": "markdown",
   "metadata": {},
   "source": [
    "§ $\\mathbf{2.4}$ $\\qquad$ Estudie ${\\color{red} {\\mathrm{especialmente}}}$  ${\\color{red} {24.A}}$ (página 76 del libro). \n",
    "\n",
    "$\\qquad\\qquad$ 1-6, 15-24, 28, 34, "
   ]
  },
  {
   "cell_type": "markdown",
   "metadata": {},
   "source": [
    "§ $\\mathbf{2.5}$ $\\qquad$ 1, 2, 5-13, 18-9, 25-6, 29, 30-3, 36-7, 39, 40."
   ]
  }
 ],
 "metadata": {
  "kernelspec": {
   "display_name": "Python 3",
   "language": "python",
   "name": "python3"
  },
  "language_info": {
   "codemirror_mode": {
    "name": "ipython",
    "version": 3
   },
   "file_extension": ".py",
   "mimetype": "text/x-python",
   "name": "python",
   "nbconvert_exporter": "python",
   "pygments_lexer": "ipython3",
   "version": "3.6.3"
  }
 },
 "nbformat": 4,
 "nbformat_minor": 2
}
