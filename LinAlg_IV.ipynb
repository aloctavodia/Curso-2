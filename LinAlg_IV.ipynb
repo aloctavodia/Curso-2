{
 "cells": [
  {
   "cell_type": "markdown",
   "metadata": {},
   "source": [
    "### IV - 18-19 junio 2018 - JMA\n",
    "\n",
    "*Contiene los Capítulos 6 y 7, que tratan Autovalores/Autovectores y SVD.*"
   ]
  },
  {
   "cell_type": "markdown",
   "metadata": {},
   "source": [
    "DEFINICIÓN [de **función lineal**]. Una función $f:\\mathbb{R}^n\\rightarrow \\mathbb{R}^m$ se llama *lineal* si cumple las dos propiedades siguientes:\n",
    "\n",
    "$$\n",
    "\\begin{align*}\n",
    " f(\\mathbf{v}+\\mathbf{w}) &=f(\\mathbf{v})+ f(\\mathbf{w}) \\\\\n",
    "f(a\\mathbf{v}) &=af(\\mathbf{v})\n",
    "\\end{align*}\n",
    "$$\n",
    "\n",
    "para $\\mathbf{v,w}\\in \\mathbb{R}^m$, $a\\in \\mathbb{R}$. Estas dos condiciones pueden resumirse en una sola fórmula: $f(a\\mathbf{v}+b\\mathbf{w})= af(\\mathbf{v})+ bf(\\mathbf{w})$. En otras palabras, $f$ es lineal sii mapea cada combinación lineal de vectores de $\\mathbb{R}^n$ en la correspondiente combinación lineal de sus imágenes por $f$, en $\\mathbb{R}^m$. \n",
    "\n",
    "Recordemos que dada una matriz $A$ de tamaño $m\\times n$, multiplicación por $A$ nos da la función $f_A:\\mathbb{R}^n \\rightarrow \\mathbb{R}^m$,  $\\,f_A(\\mathbf{v}) := A\\mathbf{v}$. Notemos que $f_A$ es lineal:\n",
    "\n",
    "$$\n",
    "f_A(a\\mathbf{v}+b\\mathbf{w})=A(a\\mathbf{v}+b\\mathbf{w})= A(a\\mathbf{v})+ A(b\\mathbf{w}) = aA\\mathbf{v}+ bA\\mathbf{w} = af_A(\\mathbf{v})+bf_A(\\mathbf{w}),\n",
    "$$\n",
    "\n",
    "porque la multiplicación distribuye con la suma y \"conmuta\" con el producto por un escalar.\n",
    "\n",
    "Puede demostrarse que toda función lineal $f:V\\rightarrow W$ es de la forma $\\, f_A$, para alguna matriz $A$ de tamaño $m\\times n$, donde $n=\\mathrm{dim\\,} V,\\, m=\\mathrm{dim\\,}W$. Para ello es necesario elegir una base $\\mathbf{v}_1,\\dots,\\mathbf{v}_n$ de $V$, y una base $\\mathbf{w}_1, \\dots,\\mathbf{w}_m$ de $W$. \n",
    "\n",
    "\n",
    "\n",
    "${\\color{red}{\\mathbf{OPCIONAL\\, \\Longrightarrow}}}$ Entonces todo vector $\\mathbf{v}\\in V,\\, \\mathbf{w}\\in W$ puede escribir unívocamente como combinación lineal de la base respectiva:\n",
    "\n",
    "$$\n",
    "\\mathbf{v}= c_1 \\mathbf{v}_1+\\cdots+c_n \\mathbf{v}_n\\, , \\qquad\\qquad \n",
    "\\mathbf{w}= d_1 \\mathbf{w}_1+\\cdots+d_m \\mathbf{w}_m \\qquad (-1-)\n",
    "$$\n",
    "\n",
    "En particular, cada $f(\\mathbf{v}_i)\\, (i=1,\\dots,n)$ puede escribirse unívocamnte como combinación lineal de los $\\mathbf{w}_j $, digamos:\n",
    "\n",
    "$$\n",
    "f(\\mathbf{v}_i)= a_{i1}\\mathbf{w}_1+\\cdots+a_{im} \\mathbf{w}_m\\,, \\quad (i=1,\\dots,n)\\quad (-2-)\n",
    "$$\n",
    "\n",
    "donde los coeficientes $a_{ij}$ está unívocamente determinados. Definimos $A:=(a_{ji})$ ${\\color{red}{(no\\, a_{ij})}}$, una matriz de tamaño $m\\times n$. Dado $\\mathbf{v} \\in V$ como en (-1-), sea $\\mathbf{c}$ el vector (columna) de componentes $c_1,\\dots,c_n$. Entonces, usando (-2-):\n",
    "\n",
    "$$\n",
    "\\begin{align*}\n",
    "f(\\mathbf{v})&= f(c_1 \\mathbf{v}_1+\\cdots+c_n \\mathbf{v}_n) \\\\\n",
    "  & =c_1f(\\mathbf{v}_1)+\\cdots+ c_nf(\\mathbf{v}_n) \\\\\n",
    "  &= c_1(a_{11}\\mathbf{w}_1+\\cdots+a_{1m} \\mathbf{w}_m)+\\cdots + c_n(a_{n1}\\mathbf{w}_1+\\cdots+a_{nm} \\mathbf{w}_m) \\\\\n",
    "  & = (a_{11}c_1+a_{21}c_2+\\cdots+a_{n1}c_n)\\mathbf{w}_1+\\cdots +\n",
    "  (a_{1m}c_1+a_{2m}c_2+\\cdots+a_{nm}c_n)\\mathbf{w}_m\n",
    "\\end{align*}\n",
    "$$\n",
    "\n",
    "O sea, si los coeficientes de $\\mathbf{v}$ (en la base elegida de $V$) están dados por $\\mathbf{c}$, entonces los coeficientes de $f(\\mathbf{v})$  (en la base elegida de $W$) están dados por $A\\mathbf{c}$. ${\\color{red}{\\mathbf{\\, \\Longleftarrow}}}$\n",
    "\n",
    "${\\color{red}{\\Longrightarrow\\, \\mathbf{MORALEJA\\, \\Longleftarrow}}}$ La elección de una base en $V$ permite identificar a $V$ con el conjunto de $n$-uplas de números reales, es decir, con $\\mathbb{R}^n$. Lo mismo vale para $W$ que, en este caso, se identifica con $\\mathbb{R}^m$. \n",
    "\n",
    "En este proceso, la función lineal *f* pasa a identificarse con multiplicación de *n*-uplas por *A*. También puede demostrarse que la matriz correspondiente a una *composición* de funciones es el *producto* de las matrices. Es decir, si $V,\\, W,\\, U$ son espacios vectoriales y tenemos dos funciones lineales $f:\\mathbb{R}^n\\rightarrow \\mathbb{R}^m$, y $g:\\mathbb{R}^m\\rightarrow \\mathbb{R}^k$, la *composición gf* es una nueva función lineal $gf:\\mathbb{R}^n\\rightarrow \\mathbb{R}^k$, definida por  $gf(\\mathbf{v}):=g\\big(f(\\mathbf{v})\\big)$, para cada $\\mathbf{v}\\in V$. Para traducir a matrices, necesitamos elegir una nueva base en $U$. En símbolos:\n",
    "\n",
    "$$\n",
    "\\mathbb{R}^n \\overset{f_A}{\\longrightarrow} \\mathbb{R}^m \\overset{g_B}{\\longrightarrow} \\mathbb{R}^k \\qquad{\\mathrm{y\\,\\, tenemos:}} \\qquad g_B\\, f_A = (gf)_{BA}\n",
    "$$\n",
    "\n",
    "Comparemos, finalmente, los tamaños de $B,\\, A,\\, AB$ que son, respectivamente: $k\\times m$, $m\\times n$, y $k\\times m$. "
   ]
  },
  {
   "cell_type": "markdown",
   "metadata": {},
   "source": [
    "## Autovalores y autovectores\n",
    "Dada una matriz $n\\times n$ $A$, buscamos vectores $\\mathbf{x}\\neq \\mathbf{0}$ y escalares $\\lambda$ tal que:\n",
    "\n",
    "$$\n",
    "A\\mathbf{x}=\\lambda \\mathbf{x} \\qquad\\qquad\\qquad (-3-)\n",
    "$$\n",
    "\n",
    "Todo vector que cumpla (-3-) se llama *autovector*, y el correspondiente escalar, *autovalor*. Expresado en términos de $f_A$, (-3-) dice que $f_A(\\mathbf{x}) = \\lambda \\mathbf{x}$, es decir, todo autovector es mapeado por $f_A$ a un vector que es *paralelo* al mismo.\n",
    "\n",
    "Observemos que (-3-) puede escribirse $A\\mathbf{x}=\\lambda I\\mathbf{x}$ (donde $I$ es la matriz identidad de orden $n$), que a su vez puede reescribirse así:\n",
    "\n",
    "$$\n",
    "(A-\\lambda I)\\mathbf{x}=\\mathbf{0} \\qquad\\qquad\\qquad (-4-)\n",
    "$$\n",
    "\n",
    "Como exigimos que $\\mathbf{x}\\neq \\mathbf{0}$, resulta de (-4-) que $(A-\\lambda I)$ es singular y, como es cuadrada, esto equivale a exigir que \n",
    "\n",
    "$$\n",
    "\\mathrm{det \\,} (A-\\lambda I)=0 \\qquad\\qquad\\qquad (-5-)\n",
    "$$\n",
    "\n",
    "El determinante en la  fórmula (-5-) es un polinomio en $\\lambda$, de grado $n$. Por lo tanto, para resolver (-5-), debemos buscar las raíces del polinomio, que son $n$ (si las contamos con *multiplicidad*) pero que, sin embargo, pueden ser números *complejos*.\n",
    "\n",
    "${\\color{red}{\\Longrightarrow}}$ El **Teorema Fundamental del Álgebra** dice que todo polinomio complejo (es decir, de coeficientes complejos) de grado *n* tiene exactamente *n* raíces, si las contamos con su *multiplicidad*. El teorema implica que para todo polinomio $p$ de grando *n*, vale que: \n",
    "    \n",
    "$$\n",
    "p(x) = a_0+a_1 x+a_2 x^2 + \\cdots + a_n x^n, \\quad (n\\geq 1,\\, a_i\\in\\mathbb{C}, a_n \\neq 0 ),\\quad\\Longrightarrow \\quad p(x)= \n",
    "b(x-r_1)(x-r_2)\\cdots (x-r_n)\\qquad\\qquad (-6-)\n",
    "$$\n",
    "\n",
    "donde $b,r_1,\\dots,r_n\\in \\mathbb{C}$. Observar que $p(r_i)=0,\\, i=1,\\dots,n.$ Los números complejos $r_1,\\dots,r_n$  son las **raíces** de $p$, y pueden ser distintas o algunas de ellas iguales a otras. La cantidad de veces que la misma raíz $r_i$ aparece en la expresión (-6-) es la *multiplicidad* de $r_i$. Por ejemplo, $p_1(x)=2(x-1)(x-2)(x-3)$ es un polinomio de tercer grado cuyas raíces (1,2,3) son todas *simples*. En cambio, si tenemos: \n",
    "\n",
    "$$\n",
    "p_2(x)=3(x-1)(x-1)(x-2)=3(x-1)^2(x-2),\\qquad p_3=5(x-1)^3,\n",
    "$$\n",
    "\n",
    "vemos que $p_2$ tiene una raíz *doble* (que es 1), y una raíz simple (que es 2); en total: 3 raíces, contadas con su multiplicidad. Finalmente, $p_3$ es un ejemplo de un polinomio de tercer grado, con una raíz de multiplicidad 3, que es $r=1$. ${\\color{red}{\\Longleftarrow}}$\n",
    "\n",
    "\n",
    "\n",
    "OBS: Si $f_A(\\mathbf{x}) = \\lambda \\mathbf{x}$, entonces por linealidad, $f^2_A(\\mathbf{x}) = f_A(f_A(\\mathbf{x}))= f_A(\\lambda \\mathbf{x})=\\lambda f_A(\\mathbf{x})=\\lambda^2 \\mathbf{x}$. Más generalmente, $f^k_A(\\mathbf{x})=\\lambda^k \\mathbf{x}$. Expresado en términos de multiplicación de matrices, estas ecuaciones dicen que $A^k \\mathbf{x}= \\lambda^k \\mathbf{x}$.\n",
    "\n",
    "<img src= \"imgLA/Fig_288_1.png\", width=800>\n",
    "\n",
    "El punto 4 depende de propiedades generales de polinomios, y el punto 5 da algunos ejemplos.\n",
    "\n",
    "Aquí tenemos un resumen del procedimiento para calcular autovalores/autovectores:\n",
    "\n",
    "<img src= \"imgLA/Fig_293_1.png\", width=800>\n",
    "\n",
    "Por ejemplo, si $A=\\begin{pmatrix} 1 & 2 \\\\ 2 & 4 \\end{pmatrix}$, entonces \n",
    "$A-\\lambda I=\\begin{pmatrix} 1-\\lambda & 2 \\\\ 2 & 4-\\lambda\\end{pmatrix}$. Tenemos:\n",
    "\n",
    "<img src= \"imgLA/Fig_292_1.png\", width=800>\n",
    "\n",
    "<img src= \"imgLA/Fig_292_2.png\", width=800>\n",
    "\n",
    "Ahora resolvemos, por separado, los sistemas con cada autovalor encontrado:\n",
    "\n",
    "<img src= \"imgLA/Fig_293_2.png\", width=800>\n",
    "\n",
    "Propiedades generales de polinomios dan el siguiente resultado:\n",
    "\n",
    "<img src= \"imgLA/Fig_294_1.png\", width=800>\n",
    "\n",
    "Un ejemplo de raíces múltiples es la identidad, y para autovales complejos, podemos considerar rotaciones.\n",
    "\n",
    "<img src= \"imgLA/Fig_294_2.png\", width=800>\n",
    "\n",
    "En efecto,\n",
    "\n",
    "<img src= \"imgLA/Fig_295_1.png\", width=800>\n"
   ]
  },
  {
   "cell_type": "code",
   "execution_count": 3,
   "metadata": {
    "collapsed": true
   },
   "outputs": [],
   "source": [
    "import numpy as np\n",
    "from numpy import linalg as la\n",
    "import scipy.linalg as sla\n",
    "import matplotlib.pyplot as plt"
   ]
  },
  {
   "cell_type": "code",
   "execution_count": 4,
   "metadata": {},
   "outputs": [
    {
     "data": {
      "text/plain": [
       "array([[0, 1],\n",
       "       [0, 0]])"
      ]
     },
     "execution_count": 4,
     "metadata": {},
     "output_type": "execute_result"
    }
   ],
   "source": [
    "a=np.array([[0,1],[0,0]])\n",
    "a"
   ]
  },
  {
   "cell_type": "code",
   "execution_count": 5,
   "metadata": {},
   "outputs": [
    {
     "data": {
      "text/plain": [
       "array([[0, 0],\n",
       "       [1, 0]])"
      ]
     },
     "execution_count": 5,
     "metadata": {},
     "output_type": "execute_result"
    }
   ],
   "source": [
    "b=np.array([[0,0],[1,0]])\n",
    "b"
   ]
  },
  {
   "cell_type": "code",
   "execution_count": 6,
   "metadata": {},
   "outputs": [
    {
     "data": {
      "text/plain": [
       "array([[1, 0],\n",
       "       [0, 0]])"
      ]
     },
     "execution_count": 6,
     "metadata": {},
     "output_type": "execute_result"
    }
   ],
   "source": [
    "ab=np.dot(a,b)\n",
    "ab"
   ]
  },
  {
   "cell_type": "code",
   "execution_count": 7,
   "metadata": {},
   "outputs": [
    {
     "data": {
      "text/plain": [
       "(array([ 0.,  0.]), array([[  1.00000000e+000,  -1.00000000e+000],\n",
       "        [  0.00000000e+000,   2.00416836e-292]]))"
      ]
     },
     "execution_count": 7,
     "metadata": {},
     "output_type": "execute_result"
    }
   ],
   "source": [
    "wa, va = la.eig(a)\n",
    "wa,va"
   ]
  },
  {
   "cell_type": "code",
   "execution_count": 8,
   "metadata": {},
   "outputs": [
    {
     "data": {
      "text/plain": [
       "(array([ 0.,  0.]), array([[  0.00000000e+000,   2.00416836e-292],\n",
       "        [  1.00000000e+000,  -1.00000000e+000]]))"
      ]
     },
     "execution_count": 8,
     "metadata": {},
     "output_type": "execute_result"
    }
   ],
   "source": [
    "wb, vb = la.eig(b)\n",
    "wb,vb"
   ]
  },
  {
   "cell_type": "code",
   "execution_count": 9,
   "metadata": {},
   "outputs": [
    {
     "data": {
      "text/plain": [
       "(array([ 1.,  0.]), array([[ 1.,  0.],\n",
       "        [ 0.,  1.]]))"
      ]
     },
     "execution_count": 9,
     "metadata": {},
     "output_type": "execute_result"
    }
   ],
   "source": [
    "wab, vab = la.eig(ab)\n",
    "wab,vab"
   ]
  },
  {
   "cell_type": "code",
   "execution_count": 10,
   "metadata": {},
   "outputs": [
    {
     "data": {
      "text/plain": [
       "array([[ 0, -1],\n",
       "       [ 1,  0]])"
      ]
     },
     "execution_count": 10,
     "metadata": {},
     "output_type": "execute_result"
    }
   ],
   "source": [
    "r=np.array([[0,-1],[1,0]])\n",
    "r"
   ]
  },
  {
   "cell_type": "code",
   "execution_count": 11,
   "metadata": {},
   "outputs": [
    {
     "data": {
      "text/plain": [
       "(array([ 0.+1.j,  0.-1.j]),\n",
       " array([[ 0.70710678+0.j        ,  0.70710678-0.j        ],\n",
       "        [ 0.00000000-0.70710678j,  0.00000000+0.70710678j]]))"
      ]
     },
     "execution_count": 11,
     "metadata": {},
     "output_type": "execute_result"
    }
   ],
   "source": [
    "wr, vr = la.eig(r)\n",
    "wr,vr"
   ]
  },
  {
   "cell_type": "code",
   "execution_count": 12,
   "metadata": {},
   "outputs": [
    {
     "data": {
      "text/plain": [
       "array([[0, 1],\n",
       "       [1, 0]])"
      ]
     },
     "execution_count": 12,
     "metadata": {},
     "output_type": "execute_result"
    }
   ],
   "source": [
    "aabb=a+b\n",
    "aabb"
   ]
  },
  {
   "cell_type": "code",
   "execution_count": 13,
   "metadata": {},
   "outputs": [
    {
     "data": {
      "text/plain": [
       "(array([ 1., -1.]), array([[ 0.70710678, -0.70710678],\n",
       "        [ 0.70710678,  0.70710678]]))"
      ]
     },
     "execution_count": 13,
     "metadata": {},
     "output_type": "execute_result"
    }
   ],
   "source": [
    "waabb,vaabb=la.eig(aabb)\n",
    "waabb, vaabb"
   ]
  },
  {
   "cell_type": "markdown",
   "metadata": {},
   "source": [
    "## Diagonalización de matrices.\n",
    "\n",
    "<img src= \"imgLA/Fig_304_1.png\", width=800>\n",
    "\n",
    "Tomemos los dos primeros puntos.\n",
    "\n",
    "<img src= \"imgLA/Fig_304_2.png\", width=800>\n",
    "\n",
    "Aquí tenemos un ejemplo de $2\\times 2$:\n",
    "\n",
    "<img src= \"imgLA/Fig_304_3.png\", width=800>\n",
    "\n",
    "DEMOSTRACIÓN:\n",
    "\n",
    "<img src= \"imgLA/Fig_305_1.png\", width=800>\n",
    "\n",
    "<img src= \"imgLA/Fig_305_2.png\", width=800>\n",
    "\n",
    "<img src= \"imgLA/Fig_305_3.png\", width=800>\n",
    "\n",
    "<img src= \"imgLA/Fig_305_4.png\", width=800>\n",
    "\n",
    "<img src= \"imgLA/Fig_306_1.png\", width=800>\n",
    "\n",
    "<img src= \"imgLA/Fig_306_2.png\", width=800>\n",
    "\n",
    "<img src= \"imgLA/Fig_306_3.png\", width=800>\n",
    "\n",
    "<img src= \"imgLA/Fig_306_4.png\", width=800>\n",
    "\n",
    "<img src= \"imgLA/Fig_306_5.png\", width=800>\n",
    "\n",
    "Hay más ejemplos de potencias en el libro. Una conclusión importante es la siguiente:\n",
    "\n",
    "<img src= \"imgLA/Fig_307_1.png\", width=800>\n",
    "\n",
    "También tenemos el concepto de matrices **SIMILARES**, $A$ y $C$ son $\\color{red}{similares}$ sii existe $B$ intertible, tal que $A=BCB^{-1}$. Las matrices similares tienen los mismos autovalores:\n",
    "\n",
    "<img src= \"imgLA/Fig_308_1.png\", width=800>\n",
    "\n",
    "$\\color{red}{\\Longrightarrow}$ Una aplicación interesante de estas ideas es al cálculo de los números de la $\\color{red}{sucesión}$ $\\color{red}{de}$ $\\color{red}{Fibonacci}$.\n",
    "\n",
    "$\\color{red}{POTENCIAS}$ $\\color{red}{de}$ $\\color{red}{matrices.}$\n",
    "\n",
    "<img src= \"imgLA/Fig_310_1.png\", width=800>\n",
    "\n",
    "<img src= \"imgLA/Fig_310_2.png\", width=800>\n",
    "\n",
    "<img src= \"imgLA/Fig_311_1.png\", width=800>\n",
    "\n",
    "\n",
    "La existencia o no de suficientes autovectores como para poder diagonalizar una matriz está relacionada con la **multiplicidad** de los autovalores. \n",
    "\n",
    "<img src= \"imgLA/Fig_311_2.png\", width=800>\n",
    "\n",
    "<img src= \"imgLA/Fig_312_1.png\", width=800>\n",
    "\n",
    "$\\color{red}{\\Longrightarrow}$ Aquí tenemos un \n",
    "\n",
    "$\\qquad\\color{red}{RESUMEN}$:\n",
    "\n",
    "<img src= \"imgLA/Fig_312_2.png\", width=800>"
   ]
  },
  {
   "cell_type": "markdown",
   "metadata": {
    "collapsed": true
   },
   "source": [
    "$\\color{red}{\\Longrightarrow}$$\\color{red}{\\Longrightarrow}$$\\color{red}{\\Longrightarrow}$$\\color{red}{\\Longrightarrow}$$\\color{red}{\\Longrightarrow}\\qquad$ $\\color{red}{SECCIÓN\\,\\, 6.4}$ $\\qquad\\color{red}{\\Longleftarrow}$$\\color{red}{\\Longleftarrow}$$\\color{red}{\\Longleftarrow}$$\\color{red}{\\Longleftarrow}$$\\color{red}{\\Longleftarrow}$\n",
    "\n",
    "<img src= \"imgLA/Fig_338_1.png\", width=800>\n",
    "\n",
    "<img src= \"imgLA/Fig_338_2.png\", width=800>\n",
    "\n",
    "<img src= \"imgLA/Fig_338_3.png\", width=600>\n",
    "\n",
    "<img src= \"imgLA/Fig_339_1.png\", width=800>\n",
    "\n",
    "<img src= \"imgLA/Fig_339_2.png\", width=800>\n",
    "\n",
    "<img src= \"imgLA/Fig_339_3.png\", width=800>\n",
    "\n",
    "<img src= \"imgLA/Fig_340_1.png\", width=800>\n",
    "\n",
    "<img src= \"imgLA/Fig_340_2.png\", width=800>\n",
    "\n",
    "$\\color{red}{\\Longrightarrow}$$\\color{red}{\\Longrightarrow}\\qquad$ $\\color{red}{EN\\,\\, RESUMEN:}$ $\\qquad\\color{red}{\\Longleftarrow}$$\\color{red}{\\Longleftarrow}$\n",
    "\n",
    "\n",
    "<img src= \"imgLA/Fig_340_3.png\", width=800>\n",
    "\n",
    "<img src= \"imgLA/Fig_341_1.png\", width=800>\n",
    "\n",
    "<img src= \"imgLA/Fig_341_2.png\", width=800>\n",
    "\n",
    "<img src= \"imgLA/Fig_342_1.png\", width=800>\n",
    "\n",
    "<img src= \"imgLA/Fig_343_1.png\", width=800>\n",
    "\n",
    "$\\color{red}{\\Longrightarrow}$$\\color{red}{\\Longrightarrow}\\qquad$ $\\color{red}{EN\\,\\, RESUMEN:}$ $\\qquad\\color{red}{\\Longleftarrow}$$\\color{red}{\\Longleftarrow}$\n",
    "\n",
    "<img src= \"imgLA/Fig_343_3.png\", width=800>"
   ]
  },
  {
   "cell_type": "markdown",
   "metadata": {},
   "source": [
    "$\\color{red}{\\Longrightarrow}$$\\color{red}{\\Longrightarrow}$$\\color{red}{\\Longrightarrow}$$\\color{red}{\\Longrightarrow}$$\\color{red}{\\Longrightarrow}\\qquad$ $\\color{red}{SECCIÓN\\,\\, 6.5}$ $\\qquad\\color{red}{\\Longleftarrow}$$\\color{red}{\\Longleftarrow}$$\\color{red}{\\Longleftarrow}$$\\color{red}{\\Longleftarrow}$$\\color{red}{\\Longleftarrow}$\n",
    "\n",
    "<img src= \"imgLA/Fig_350_1.png\", width=800>\n",
    "\n",
    "\n",
    "<img src= \"imgLA/Fig_350_2.png\", width=800>\n",
    "\n",
    "\n",
    "<img src= \"imgLA/Fig_350_3.png\", width=800>\n",
    "\n",
    "\n",
    "\n",
    "<img src= \"imgLA/Fig_350_4.png\", width=800>\n",
    "\n",
    "\n",
    "\n",
    "<img src= \"imgLA/Fig_351_1.png\", width=800>\n",
    "\n",
    "\n",
    "\n",
    "<img src= \"imgLA/Fig_351_2.png\", width=800>\n",
    "\n",
    "\n",
    "\n",
    "\n",
    "<img src= \"imgLA/Fig_352_1.png\", width=800>\n",
    "\n",
    "\n",
    "\n",
    "\n",
    "<img src= \"imgLA/Fig_352_2.png\", width=800>\n",
    "\n",
    "\n",
    "\n",
    "\n",
    "\n",
    "<img src= \"imgLA/Fig_352_3.png\", width=800>\n",
    "\n",
    "\n",
    "\n",
    "\n",
    "\n",
    "<img src= \"imgLA/Fig_352_4.png\", width=800>\n",
    "\n",
    "\n",
    "\n",
    "\n",
    "<img src= \"imgLA/Fig_354_1.png\", width=800>\n",
    "<img src= \"imgLA/Fig_354_2.png\", width=800>\n",
    "\n",
    "\n",
    "\n",
    "\n",
    "<img src= \"imgLA/Fig_354_3.png\", width=500>\n",
    "\n",
    "$\\color{red}{\\Longrightarrow}$$\\color{red}{\\Longrightarrow}\\qquad$ $\\color{red}{ECUACIÓN \\,\\, de\\,\\, la\\,\\, ELIPSE}$ $\\qquad\\color{red}{\\Longleftarrow}$$\\color{red}{\\Longleftarrow}$\n",
    "\n",
    "La ecuación *canónica* de la elipse es de la forma:\n",
    "\n",
    "$$\n",
    "\\frac{(x-x_0)^2}{a^2} + \\frac{(y-y_0)^2}{b^2} = 1\n",
    "$$\n",
    "donde $|a|$ es el semieje horizontal, $|b|$ el semieje vertical, y el centro de la elipse está en el punto $(x_0,y_0)$. Por ejemplo, la elipse de la derecha de la figura 6.7 (ver abajo), tiene ecuación \n",
    "\n",
    "$$\n",
    "\\frac{x^2}{(1/3)^2} + \\frac{y^2}{1} = 1 = 9x^2+y^2\n",
    "$$\n",
    "\n",
    "Esta ecuación **no** es correcta cuando los ejes de la elipse **NO** están alineados con los ejes de coordenadas, como en el caso de la elipse de la izquierda de la Fig. 6.7, sino que tiene en este caso (siendo que está centrada en el orígen) la forma general:\n",
    "\n",
    "$$\n",
    "ax^2+2bxy+cy^2=1\\quad \\mathrm{equivalente\\,\\, a:}\\quad \\mathbf{x}^TS\\,\\mathbf{x}=1\n",
    "$$\n",
    "\n",
    "$\\color{red}{\\Longrightarrow}$$\\color{red}{\\Longrightarrow}\\qquad$ $\\color{red}{¿Cómo\\,\\, hacemos\\,\\, para\\,\\,  pasar\\,\\, a\\,\\, la\\,\\, ecuación\\,\\, \\mathbf{canónica}?}$ $\\qquad\\color{red}{\\Longleftarrow}$$\\color{red}{\\Longleftarrow}\\quad$  En el ejemplo de la Fig. 6.7, se trata de pasar de la ecuación $5x^2+8xy+5y^2=1$, a la canónica: $9x^2+y^2=1$.\n",
    "\n",
    "\n",
    "<img src= \"imgLA/Fig_355_1.png\", width=800>\n",
    "\n",
    "\n",
    "\n",
    "\n",
    "\n",
    "\n",
    "<img src= \"imgLA/Fig_354_4.png\", width=800>\n",
    "\n",
    "\n",
    "\n",
    "\n",
    "<img src= \"imgLA/Fig_354_5.png\", width=800>\n",
    "\n",
    "\n",
    "\n",
    "\n",
    "<img src= \"imgLA/Fig_355_2.png\", width=800>\n",
    "\n",
    "\n",
    "\n",
    "\n",
    "<img src= \"imgLA/Fig_356_1.png\", width=800>"
   ]
  },
  {
   "cell_type": "markdown",
   "metadata": {},
   "source": [
    "## Finalmente, este resumen:\n",
    "\n",
    "<img src= \"imgLA/Fig_363_1.png\", width=800>\n",
    "<img src= \"imgLA/Fig_363_2.png\", width=800>"
   ]
  },
  {
   "cell_type": "markdown",
   "metadata": {},
   "source": [
    "# Capítulo 7 - Descomposición por Valores Singulares (SVD)"
   ]
  },
  {
   "cell_type": "markdown",
   "metadata": {},
   "source": [
    "<img src= \"imgLA/Fig_364_1.png\", width=800>\n",
    "\n",
    "\n",
    "<img src= \"imgLA/Fig_364_2.png\", width=800>\n",
    "\n",
    "## Comenzamos examinando el problema de comprimir imágenes\n",
    "\n",
    "Consideremos imágenes simples, codificadas por medio de una matriz de tamaño $m\\times n$ cuyas entradas $a_{ij}$ definen la escala de grises de cada pixel de la imagen. Según la Real Academia,\n",
    "\n",
    "> ${\\color{blue}{\\mathbf{píxel}}}$ \n",
    "\n",
    "> ${\\color{blue}{\\mathrm{Tb.\\,\\,} \\mathbf{pixel}}}$.\n",
    "\n",
    ">Del ingl. *pixel*, y este acrón. de *pix*, pl. coloq. de *picture* 'retrato, imagen', y *element* 'elemento'.\n",
    "1. m. Inform. Superficie homogénea más pequeña de las que componen una imagen, que se define por su brillo y color.\n",
    "\n",
    "Un píxel será para nosotros un cuadradito ubicado *i* pasos hacia la derecha, y *j* pasos hacia arriba, en relación a la esquina inferior izquierda. Su escala de grises es un número (generalmente un entero $0\\leq a_{ij}< 256 = 2^8$). Por ejemplo, un píxel totalmente blanco tendrá $a_{ij}=255=11111111$ en notación *binaria*. \n",
    "\n",
    "Vemos que una imagen con $m\\times n$ píxeles que usa 8 *bits* para su escala de grises, se transforma en una matriz de tamaño $m\\times n$, con 256 posibles valores de cada entrada $a_{ij}$. O sea, una imagen es una matriz inmensa. La TV de *alta definición* suele tener $m=1080$, y $n=1920$. Además, hay 24 cuadros por segundo, y si es en colores, hay 3 escalas de color. Por lo tanto, debemos transmitir\n",
    "\n",
    "$$\n",
    "3*8*24*1080*1920 =3*8* 49\\, 766\\, 400 = 1\\, 194\\, 393\\, 600\\quad \\mathrm{bits\\,\\, por\\,\\, segundo}.\n",
    "$$\n",
    "\n",
    "Esto es demasiado caro y no se hace: el transmisor no podría seguirle el paso al show...\n",
    "\n",
    "La solución es **comprimir la imagen**. Si está bien hecha, no se aprecia diferencia en la calidad de la imagen. Lo difícil es comprimir los bordes, que es donde se producen cambios inesperados en la escala de grises. Para poder comprimir exitosamente es crucial que *píxeles cercanos tengan escalas grises similares*. Los bordes producen un salto inesperado al cruzarlo. En el caso de videos, los números $a_{ij}$ no cambian mucho entre cuadros. La idea es, entonces, **transmitir solamente los pequeños cambios**, y cada matriz de cambio es comprimida usando álgebra lineal.\n",
    "\n",
    "---\n",
    "\n",
    "\n",
    "<img src= \"imgLA/Fig_365_1.png\", width=800>\n",
    "\n",
    "---\n",
    "\n",
    "***\n",
    "\n",
    "<img src= \"imgLA/Fig_366_1.png\", width=800>\n",
    "\n",
    "***\n",
    "\n",
    "***\n",
    "\n",
    "<img src= \"imgLA/Fig_366_2.png\", width=800>\n",
    "\n",
    "<img src= \"imgLA/Fig_366_3.png\", width=800>\n",
    "\n",
    "---\n",
    "\n",
    "---\n",
    "\n",
    "<img src= \"imgLA/Fig_366_4.png\", width=800>\n",
    "\n",
    "\n",
    "---\n",
    "\n",
    "---\n",
    "\n",
    "<img src= \"imgLA/Fig_366_5.png\", width=800>\n",
    "<img src= \"imgLA/Fig_367_1.png\", width=800>\n",
    "\n",
    "Veamos un EJEMPLO con la matriz $A=\\begin{pmatrix} 1 & 0 \\\\ 1 & 1 \\end{pmatrix}$.\n",
    "\n",
    "\n",
    "<img src= \"imgLA/Fig_367_2.png\", width=800>"
   ]
  },
  {
   "cell_type": "code",
   "execution_count": 26,
   "metadata": {},
   "outputs": [
    {
     "data": {
      "text/plain": [
       "array([[1, 0],\n",
       "       [1, 1]])"
      ]
     },
     "execution_count": 26,
     "metadata": {},
     "output_type": "execute_result"
    }
   ],
   "source": [
    "a=np.array([[1,0],[1,1]])\n",
    "a"
   ]
  },
  {
   "cell_type": "code",
   "execution_count": 27,
   "metadata": {},
   "outputs": [
    {
     "data": {
      "text/plain": [
       "array([[-0.52573111, -0.85065081],\n",
       "       [-0.85065081,  0.52573111]])"
      ]
     },
     "execution_count": 27,
     "metadata": {},
     "output_type": "execute_result"
    }
   ],
   "source": [
    "u, s, vh = la.svd(a, full_matrices=True)\n",
    "u"
   ]
  },
  {
   "cell_type": "code",
   "execution_count": 31,
   "metadata": {},
   "outputs": [
    {
     "data": {
      "text/plain": [
       "(array([ 1.61803399,  0.61803399]), 1.6180339887498949, 0.6180339887498949)"
      ]
     },
     "execution_count": 31,
     "metadata": {},
     "output_type": "execute_result"
    }
   ],
   "source": [
    "s, (1+np.sqrt(5))/2, (-1+np.sqrt(5))/2"
   ]
  },
  {
   "cell_type": "code",
   "execution_count": 29,
   "metadata": {},
   "outputs": [
    {
     "data": {
      "text/plain": [
       "array([[-0.85065081, -0.52573111],\n",
       "       [-0.52573111,  0.85065081]])"
      ]
     },
     "execution_count": 29,
     "metadata": {},
     "output_type": "execute_result"
    }
   ],
   "source": [
    "vh"
   ]
  },
  {
   "cell_type": "markdown",
   "metadata": {},
   "source": [
    "# 7.2 - Bases y Matrices en Valores Singulares (SVD)"
   ]
  },
  {
   "cell_type": "markdown",
   "metadata": {},
   "source": [
    "<img src= \"imgLA/Fig_371_1.png\", width=800>\n",
    "\n",
    "***\n",
    "\n",
    "***\n",
    "\n",
    "<img src= \"imgLA/Fig_371_2.png\", width=800>\n",
    "\n",
    "---\n",
    "\n",
    "---\n",
    "\n",
    "<img src= \"imgLA/Fig_371_3.png\", width=800>\n",
    "\n",
    "---\n",
    "\n",
    "---\n",
    "\n",
    "<img src= \"imgLA/Fig_371_4.png\", width=800>\n",
    "<img src= \"imgLA/Fig_392_1.png\", width=800>\n",
    "\n",
    "\n",
    "\n",
    "\n",
    "<img src= \"imgLA/Fig_392_2.png\", width=800>\n",
    "\n",
    "---\n",
    "\n",
    "---\n",
    "\n",
    "<img src= \"imgLA/Fig_371_5.png\", width=800>\n",
    "\n",
    "\n",
    "<img src= \"imgLA/Fig_372_1.png\", width=800>\n",
    "\n",
    "\n",
    "<img src= \"imgLA/Fig_372_2.png\", width=800>\n",
    "\n",
    "<img src= \"imgLA/Fig_372_3.png\", width=800>\n",
    "\n",
    "\n",
    "<img src= \"imgLA/Fig_372_4.png\", width=800>\n",
    "\n",
    "---\n",
    "\n",
    "---\n",
    "\n",
    "\n",
    "${\\color{red}{\\mathbf{OPCIONAL\\, \\Longrightarrow}}}$\n",
    "\n",
    "<img src= \"imgLA/Fig_372_5.png\", width=800>\n",
    "\n",
    "\n",
    "<img src= \"imgLA/Fig_373_1.png\", width=800>\n",
    "\n",
    "${\\color{red}{\\Longleftarrow}}$ \n",
    "\n",
    "\n",
    "\n",
    "### SALTEARSE las secciones \"Singular Vectors of $A$ and Eigenvectors of $S=A^TA$\", y \"Computing the Eigenvalues of $S$ and Singular Values of $A$\"\n",
    "\n",
    "---\n",
    "\n",
    "----\n",
    "\n",
    "<img src= \"imgLA/Fig_378_1.png\", width=800>"
   ]
  },
  {
   "cell_type": "markdown",
   "metadata": {},
   "source": [
    "# 7.3 - Análisis de Componentes Principales por SVD ( PCA by the SVD)"
   ]
  },
  {
   "cell_type": "markdown",
   "metadata": {},
   "source": [
    "<img src= \"imgLA/Fig_382_1.png\", width=800>\n",
    "\n",
    "<img src= \"imgLA/Fig_382_2.png\", width=800>\n",
    "\n",
    "\n",
    "<img src= \"imgLA/Fig_382_3.png\", width=800>\n",
    "\n",
    "<img src= \"imgLA/Fig_382_4.png\", width=800>\n",
    "\n",
    "---\n",
    "\n",
    "---\n",
    "\n",
    "<img src= \"imgLA/Fig_383_1.png\", width=800>\n",
    "\n",
    "<img src= \"imgLA/Fig_383_2.png\", width=800>\n",
    "\n",
    "<img src= \"imgLA/Fig_383_3.png\", width=800>\n",
    "\n",
    "---\n",
    "\n",
    "---\n",
    "\n",
    "<img src= \"imgLA/Fig_383_4.png\", width=800>\n",
    "\n",
    "\n",
    "<img src= \"imgLA/Fig_384_1.png\", width=800>\n",
    "\n",
    "\n",
    "<img src= \"imgLA/Fig_384_2.png\", width=800>\n",
    "\n",
    "\n",
    "$$\n",
    "{\\color{red}{\\Longrightarrow\\,\\,\\mathbf{AQUÍ\\,\\, termina\\,\\, el\\,\\, material\\,\\, del\\,\\, curso\\,\\,\\Longleftarrow}}}\n",
    "$$ "
   ]
  }
 ],
 "metadata": {
  "kernelspec": {
   "display_name": "Python 3",
   "language": "python",
   "name": "python3"
  },
  "language_info": {
   "codemirror_mode": {
    "name": "ipython",
    "version": 3
   },
   "file_extension": ".py",
   "mimetype": "text/x-python",
   "name": "python",
   "nbconvert_exporter": "python",
   "pygments_lexer": "ipython3",
   "version": "3.6.3"
  }
 },
 "nbformat": 4,
 "nbformat_minor": 2
}
